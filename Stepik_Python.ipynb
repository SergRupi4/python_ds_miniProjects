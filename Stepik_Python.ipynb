{
 "cells": [
  {
   "cell_type": "code",
   "execution_count": 5,
   "metadata": {},
   "outputs": [
    {
     "name": "stdout",
     "output_type": "stream",
     "text": [
      "\n"
     ]
    }
   ],
   "source": [
    "import sys\n",
    "print(sys.stdin.readline())"
   ]
  },
  {
   "cell_type": "code",
   "execution_count": 6,
   "metadata": {},
   "outputs": [
    {
     "name": "stdout",
     "output_type": "stream",
     "text": [
      "Your age: 27\n"
     ]
    }
   ],
   "source": [
    "age=int(input(\"Your age: \"))"
   ]
  },
  {
   "cell_type": "code",
   "execution_count": 10,
   "metadata": {},
   "outputs": [
    {
     "data": {
      "text/plain": [
       "5.5"
      ]
     },
     "execution_count": 10,
     "metadata": {},
     "output_type": "execute_result"
    }
   ],
   "source": [
    "11 / 2"
   ]
  },
  {
   "cell_type": "code",
   "execution_count": 11,
   "metadata": {},
   "outputs": [
    {
     "data": {
      "text/plain": [
       "12345554321"
      ]
     },
     "execution_count": 11,
     "metadata": {},
     "output_type": "execute_result"
    }
   ],
   "source": [
    "11111 * 1111111"
   ]
  },
  {
   "cell_type": "code",
   "execution_count": 12,
   "metadata": {},
   "outputs": [
    {
     "ename": "ZeroDivisionError",
     "evalue": "division by zero",
     "output_type": "error",
     "traceback": [
      "\u001b[1;31m---------------------------------------------------------------------------\u001b[0m",
      "\u001b[1;31mZeroDivisionError\u001b[0m                         Traceback (most recent call last)",
      "\u001b[1;32m<ipython-input-12-c5316660a9b3>\u001b[0m in \u001b[0;36m<module>\u001b[1;34m\u001b[0m\n\u001b[1;32m----> 1\u001b[1;33m \u001b[1;36m42\u001b[0m \u001b[1;33m/\u001b[0m \u001b[1;33m(\u001b[0m\u001b[1;36m4\u001b[0m \u001b[1;33m+\u001b[0m \u001b[1;36m2\u001b[0m \u001b[1;33m*\u001b[0m \u001b[1;33m(\u001b[0m\u001b[1;33m-\u001b[0m\u001b[1;36m2\u001b[0m\u001b[1;33m)\u001b[0m\u001b[1;33m)\u001b[0m\u001b[1;33m\u001b[0m\u001b[1;33m\u001b[0m\u001b[0m\n\u001b[0m",
      "\u001b[1;31mZeroDivisionError\u001b[0m: division by zero"
     ]
    }
   ],
   "source": [
    "42 / (4 + 2 * (-2))"
   ]
  },
  {
   "cell_type": "code",
   "execution_count": 13,
   "metadata": {},
   "outputs": [
    {
     "data": {
      "text/plain": [
       "18064773765607550801425251468864907833685590016"
      ]
     },
     "execution_count": 13,
     "metadata": {},
     "output_type": "execute_result"
    }
   ],
   "source": [
    "2014 ** 14"
   ]
  },
  {
   "cell_type": "code",
   "execution_count": 16,
   "metadata": {},
   "outputs": [
    {
     "data": {
      "text/plain": [
       "1234.5"
      ]
     },
     "execution_count": 16,
     "metadata": {},
     "output_type": "execute_result"
    }
   ],
   "source": [
    "# Запишите число 1.2345e3 в виде десятичной дроби.\n",
    "1.2345e3"
   ]
  },
  {
   "cell_type": "code",
   "execution_count": 18,
   "metadata": {},
   "outputs": [
    {
     "data": {
      "text/plain": [
       "0.0012345"
      ]
     },
     "execution_count": 18,
     "metadata": {},
     "output_type": "execute_result"
    }
   ],
   "source": [
    "# Запишите число 1.2345e-3 в виде десятичной дроби\n",
    "1.2345e-3"
   ]
  },
  {
   "cell_type": "code",
   "execution_count": 19,
   "metadata": {},
   "outputs": [
    {
     "data": {
      "text/plain": [
       "1.806477376560755e+46"
      ]
     },
     "execution_count": 19,
     "metadata": {},
     "output_type": "execute_result"
    }
   ],
   "source": [
    "# Составьте выражение для вычисления в интерпретаторе Python 3 и вставьте в поле ответа результат вычисления:\n",
    "# 2014.0^{14}\n",
    "2014.0 ** 14"
   ]
  },
  {
   "cell_type": "code",
   "execution_count": 21,
   "metadata": {},
   "outputs": [
    {
     "data": {
      "text/plain": [
       "2"
      ]
     },
     "execution_count": 21,
     "metadata": {},
     "output_type": "execute_result"
    }
   ],
   "source": [
    "7 // 3"
   ]
  },
  {
   "cell_type": "code",
   "execution_count": 22,
   "metadata": {},
   "outputs": [
    {
     "data": {
      "text/plain": [
       "-1"
      ]
     },
     "execution_count": 22,
     "metadata": {},
     "output_type": "execute_result"
    }
   ],
   "source": [
    "int(-1.6)"
   ]
  },
  {
   "cell_type": "code",
   "execution_count": 23,
   "metadata": {},
   "outputs": [
    {
     "data": {
      "text/plain": [
       "89"
      ]
     },
     "execution_count": 23,
     "metadata": {},
     "output_type": "execute_result"
    }
   ],
   "source": [
    "9 ** 19 - int(float(9 ** 19))"
   ]
  },
  {
   "cell_type": "code",
   "execution_count": 24,
   "metadata": {},
   "outputs": [
    {
     "data": {
      "text/plain": [
       "1350851717672992089"
      ]
     },
     "execution_count": 24,
     "metadata": {},
     "output_type": "execute_result"
    }
   ],
   "source": [
    "9 ** 19"
   ]
  },
  {
   "cell_type": "code",
   "execution_count": 27,
   "metadata": {},
   "outputs": [],
   "source": [
    "x = float(9 ** 19)"
   ]
  },
  {
   "cell_type": "code",
   "execution_count": 28,
   "metadata": {},
   "outputs": [
    {
     "data": {
      "text/plain": [
       "1350851717672992000"
      ]
     },
     "execution_count": 28,
     "metadata": {},
     "output_type": "execute_result"
    }
   ],
   "source": [
    "int(x)"
   ]
  },
  {
   "cell_type": "code",
   "execution_count": 29,
   "metadata": {},
   "outputs": [
    {
     "name": "stdout",
     "output_type": "stream",
     "text": [
      "512\n",
      "8\n",
      "32\n"
     ]
    }
   ],
   "source": [
    "time = int(input())\n",
    "print(time // 60)\n",
    "print(time % 60)"
   ]
  },
  {
   "cell_type": "markdown",
   "metadata": {},
   "source": [
    "Катя узнала, что ей для сна надо X X X минут. В отличие от Коли, Катя ложится спать после полуночи в H H H часов и M M M минут. Помогите Кате определить, на какое время ей поставить будильник, чтобы он прозвенел ровно через X X X минут после того, как она ляжет спать.\n",
    "\n",
    "На стандартный ввод, каждое в своей строке, подаются значения X X X, H H H и M M M. Гарантируется, что Катя должна проснуться в тот же день, что и заснуть. Программа должна выводить время, на которое нужно поставить будильник: в первой строке часы, во второй — минуты."
   ]
  },
  {
   "cell_type": "code",
   "execution_count": null,
   "metadata": {},
   "outputs": [],
   "source": [
    "time = int(input())\n",
    "hours = int(input())\n",
    "minuts = int(input())\n",
    "time += hours * 60 + minuts\n",
    "print(time // 60, time % 60, sep='\\n')"
   ]
  },
  {
   "cell_type": "code",
   "execution_count": 31,
   "metadata": {},
   "outputs": [
    {
     "data": {
      "text/plain": [
       "False"
      ]
     },
     "execution_count": 31,
     "metadata": {},
     "output_type": "execute_result"
    }
   ],
   "source": [
    "a, b = True, False\n",
    "((a and b) or ((not a) and (not b)))"
   ]
  },
  {
   "cell_type": "code",
   "execution_count": 32,
   "metadata": {},
   "outputs": [
    {
     "data": {
      "text/plain": [
       "True"
      ]
     },
     "execution_count": 32,
     "metadata": {},
     "output_type": "execute_result"
    }
   ],
   "source": [
    "x = 5\n",
    "y = 10\n",
    "y > x * x or y >= 2 * x and x < y\n",
    "# 10 > 25 or 10 >= 10 and 5 < 10\n",
    "# False or True and True"
   ]
  },
  {
   "cell_type": "code",
   "execution_count": 33,
   "metadata": {},
   "outputs": [
    {
     "data": {
      "text/plain": [
       "False"
      ]
     },
     "execution_count": 33,
     "metadata": {},
     "output_type": "execute_result"
    }
   ],
   "source": [
    "a = True\n",
    "b = False\n",
    "a and b or not a and not b"
   ]
  },
  {
   "cell_type": "markdown",
   "metadata": {},
   "source": [
    "### Task\n",
    "\n",
    "Из передачи “Здоровье” Аня узнала, что рекомендуется спать хотя бы A часов в сутки, но пересыпать тоже вредно и не стоит спать более B B B часов. Сейчас Аня спит H H H часов в сутки. Если режим сна Ани удовлетворяет рекомендациям передачи “Здоровье”, выведите “Это нормально”. Если Аня спит менее A A A часов, выведите “Недосып”, если же более B B B часов, то выведите “Пересып”.\n",
    "\n",
    "Получаемое число A всегда меньше либо равно B.\n",
    "\n",
    "На вход программе в три строки подаются переменные в следующем порядке: A, B, H.\n",
    "\n",
    "Обратите внимание на регистр символов: вывод должен в точности соответствовать описанному в задании, т. е. если программа должна вывести \"Пересып\", выводы программы \"пересып\", \"ПЕРЕСЫП\", \"ПеРеСыП\" и другие не будут считаться верными.\n",
    "\n",
    "Это первое не самое тривиальное задание на условное выражение. В случаях, когда разбить исполнение программы на несколько направлений, стоит внимательно обдумать все условия, которые нужно использовать. Особое внимание стоит уделить строгости используемых условных операторов: различайте < \\lt < и ≤ \\le ≤; > \\gt > и ≥ \\ge ≥. Для того, чтобы понимать, какой из них стоит использовать, внимательно прочитайте условие задания."
   ]
  },
  {
   "cell_type": "code",
   "execution_count": 40,
   "metadata": {},
   "outputs": [
    {
     "name": "stdout",
     "output_type": "stream",
     "text": [
      "7\n",
      "9\n",
      "2\n",
      "Недосып\n"
     ]
    }
   ],
   "source": [
    "A, B, H = (int(input()) for i in range(3))\n",
    "if H < A:\n",
    "    print('Недосып')\n",
    "elif H > B:\n",
    "    print('Пересып')\n",
    "else:\n",
    "    print('Это нормально')"
   ]
  },
  {
   "cell_type": "markdown",
   "metadata": {},
   "source": [
    "### Task\n",
    "\n",
    "Требуется определить, является ли данный год високосным.\n",
    "\n",
    "Напомним, что високосными годами считаются те годы, порядковый номер которых либо кратен 4, но при этом не кратен 100, либо кратен 400 (например, 2000-й год являлся високосным, а 2100-й будет невисокосным годом).\n",
    "\n",
    "Программа должна корректно работать на числах 1900≤n≤3000.\n",
    "\n",
    "Выведите \"Високосный\" в случае, если считанный год является високосным и \"Обычный\" в обратном случае (не забывайте проверять регистр выводимых программой символов)."
   ]
  },
  {
   "cell_type": "code",
   "execution_count": 42,
   "metadata": {},
   "outputs": [
    {
     "name": "stdout",
     "output_type": "stream",
     "text": [
      "2100\n",
      "Обычный\n"
     ]
    }
   ],
   "source": [
    "year = int(input())\n",
    "if year % 4 == 0 and year % 100 != 0 or year % 400 == 0:\n",
    "    print(\"Високосный\")\n",
    "else:\n",
    "    print(\"Обычный\")"
   ]
  },
  {
   "cell_type": "code",
   "execution_count": 43,
   "metadata": {},
   "outputs": [
    {
     "data": {
      "text/plain": [
       "'12342'"
      ]
     },
     "execution_count": 43,
     "metadata": {},
     "output_type": "execute_result"
    }
   ],
   "source": [
    "\"123\" + \"42\""
   ]
  },
  {
   "cell_type": "code",
   "execution_count": 47,
   "metadata": {},
   "outputs": [
    {
     "name": "stdout",
     "output_type": "stream",
     "text": [
      "0\n",
      "0\n",
      "0\n",
      "0.0\n"
     ]
    }
   ],
   "source": [
    "a, b, c = (int(input()) for i in range(3))\n",
    "p = (a + b + c) / 2\n",
    "S = pow(p * (p - a) * (p - b) * (p - c), 1/2)\n",
    "print(S)"
   ]
  },
  {
   "cell_type": "code",
   "execution_count": 51,
   "metadata": {},
   "outputs": [
    {
     "name": "stdout",
     "output_type": "stream",
     "text": [
      "-20\n",
      "False\n"
     ]
    }
   ],
   "source": [
    "a = int(input())\n",
    "if -15 < a <=12 or 14 < a < 17 or 19 <= a:\n",
    "    print('True')\n",
    "else:\n",
    "    print('False')"
   ]
  },
  {
   "cell_type": "code",
   "execution_count": 3,
   "metadata": {},
   "outputs": [
    {
     "name": "stdout",
     "output_type": "stream",
     "text": [
      "5.0\n",
      "1.0\n",
      "div\n",
      "5.0\n"
     ]
    }
   ],
   "source": [
    "a, b = (float(input()) for i in range(2))\n",
    "operation = input()\n",
    "if operation == '+':\n",
    "    print(a + b)\n",
    "elif operation == '-':\n",
    "    print(a - b)\n",
    "elif operation == '*':\n",
    "    print(a * b)\n",
    "elif operation == '/':\n",
    "    if b == 0:\n",
    "        print('Деление на 0!')\n",
    "    else:\n",
    "        print(a / b)\n",
    "elif operation == 'mod':\n",
    "    if b == 0:\n",
    "        print('Деление на 0!')\n",
    "    else:\n",
    "        print(int(a) % int(b))\n",
    "elif operation == 'pow':\n",
    "    print(pow(a, b))\n",
    "elif operation == 'div':\n",
    "    if b == 0:\n",
    "        print('Деление на 0!')\n",
    "    else:\n",
    "        print(int(a // b))"
   ]
  },
  {
   "cell_type": "code",
   "execution_count": null,
   "metadata": {},
   "outputs": [],
   "source": [
    "a = 6.0\n",
    "b = 4.0\n",
    "a // b"
   ]
  },
  {
   "cell_type": "markdown",
   "metadata": {},
   "source": [
    "### Task\n",
    "Жители страны Малевии часто экспериментируют с планировкой комнат. Комнаты бывают треугольные, прямоугольные и круглые. Чтобы быстро вычислять жилплощадь, требуется написать программу, на вход которой подаётся тип фигуры комнаты и соответствующие параметры, которая бы выводила площадь получившейся комнаты.\n",
    "Для числа π в стране Малевии используют значение 3.14."
   ]
  },
  {
   "cell_type": "code",
   "execution_count": null,
   "metadata": {},
   "outputs": [],
   "source": [
    "fig_type = input()\n",
    "if fig_type == 'треугольник':\n",
    "    a, b, c = (int(input()) for i in range(3))\n",
    "    p = (a + b + c) / 2\n",
    "    S = pow(p * (p - a) * (p - b) * (p - c), 1/2)\n",
    "elif fig_type == 'прямоугольник':\n",
    "    a, b = (int(input()) for i in range(2))\n",
    "    S = a * b\n",
    "elif fig_type == 'круг':\n",
    "    pi = 3.14\n",
    "    r = int(input())\n",
    "    S = pi * (r ** 2)\n",
    "print(S)"
   ]
  },
  {
   "cell_type": "markdown",
   "metadata": {},
   "source": [
    "## Week 2. Циклы, строки, списки"
   ]
  },
  {
   "cell_type": "code",
   "execution_count": 1,
   "metadata": {},
   "outputs": [
    {
     "name": "stdout",
     "output_type": "stream",
     "text": [
      "13\n"
     ]
    }
   ],
   "source": [
    "i = 0\n",
    "while i <= 10:\n",
    "    i = i + 1\n",
    "    if i > 7:\n",
    "        i = i + 2\n",
    "print(i)"
   ]
  },
  {
   "cell_type": "code",
   "execution_count": 2,
   "metadata": {},
   "outputs": [
    {
     "name": "stdout",
     "output_type": "stream",
     "text": [
      "*\n",
      "**\n",
      "*\n",
      "*\n",
      "**\n",
      "*\n",
      "***\n",
      "*\n",
      "**\n",
      "***\n"
     ]
    }
   ],
   "source": [
    "i = 0\n",
    "while i < 5:\n",
    "    print('*')\n",
    "    if i % 2 == 0:\n",
    "        print('**')\n",
    "    if i > 2:\n",
    "        print('***')\n",
    "    i = i + 1"
   ]
  },
  {
   "cell_type": "code",
   "execution_count": 4,
   "metadata": {},
   "outputs": [
    {
     "name": "stdout",
     "output_type": "stream",
     "text": [
      "2\n",
      "3\n",
      "-5\n",
      "4\n",
      "3\n",
      "0\n",
      "7\n"
     ]
    }
   ],
   "source": [
    "n = int(input())\n",
    "s = 0\n",
    "while n != 0:\n",
    "    s += n\n",
    "    n = int(input())\n",
    "print(s)"
   ]
  },
  {
   "cell_type": "markdown",
   "metadata": {},
   "source": [
    "В Институте биоинформатики между информатиками и биологами устраивается соревнование. Победителям соревнования достанется большой и вкусный пирог. В команде биологов a a a человек, а в команде информатиков — b b b человек.\n",
    "\n",
    "Нужно заранее разрезать пирог таким образом, чтобы можно было раздать кусочки пирога любой команде, выигравшей соревнование, при этом каждому участнику этой команды должно достаться одинаковое число кусочков пирога. И так как не хочется резать пирог на слишком мелкие кусочки, нужно найти минимальное подходящее число.\n",
    "\n",
    "Напишите программу, которая помогает найти это число.\n",
    "Программа должна считывать размеры команд (два положительных целых числа a a a и b b b, каждое число вводится на отдельной строке) и выводить наименьшее число d d d, которое делится на оба этих числа без остатка."
   ]
  },
  {
   "cell_type": "code",
   "execution_count": 1,
   "metadata": {},
   "outputs": [
    {
     "name": "stdout",
     "output_type": "stream",
     "text": [
      "5\n",
      "6\n",
      "30\n"
     ]
    }
   ],
   "source": [
    "a, b = (int(input()) for i in range(2))\n",
    "d = min(a, b)\n",
    "while d % a != 0 or d % b != 0:\n",
    "    d += 1\n",
    "print(d)"
   ]
  },
  {
   "cell_type": "code",
   "execution_count": 3,
   "metadata": {},
   "outputs": [
    {
     "name": "stdout",
     "output_type": "stream",
     "text": [
      "4 5 \n",
      "9\n",
      "4\n"
     ]
    },
    {
     "ename": "ValueError",
     "evalue": "not enough values to unpack (expected 2, got 1)",
     "output_type": "error",
     "traceback": [
      "\u001b[1;31m---------------------------------------------------------------------------\u001b[0m",
      "\u001b[1;31mValueError\u001b[0m                                Traceback (most recent call last)",
      "\u001b[1;32m<ipython-input-3-04656edd0868>\u001b[0m in \u001b[0;36m<module>\u001b[1;34m\u001b[0m\n\u001b[0;32m      1\u001b[0m \u001b[0mi\u001b[0m \u001b[1;33m=\u001b[0m \u001b[1;36m0\u001b[0m\u001b[1;33m\u001b[0m\u001b[1;33m\u001b[0m\u001b[0m\n\u001b[0;32m      2\u001b[0m \u001b[1;32mwhile\u001b[0m \u001b[0mi\u001b[0m \u001b[1;33m<\u001b[0m \u001b[1;36m5\u001b[0m\u001b[1;33m:\u001b[0m\u001b[1;33m\u001b[0m\u001b[1;33m\u001b[0m\u001b[0m\n\u001b[1;32m----> 3\u001b[1;33m     \u001b[0ma\u001b[0m\u001b[1;33m,\u001b[0m \u001b[0mb\u001b[0m \u001b[1;33m=\u001b[0m \u001b[0minput\u001b[0m\u001b[1;33m(\u001b[0m\u001b[1;33m)\u001b[0m\u001b[1;33m.\u001b[0m\u001b[0msplit\u001b[0m\u001b[1;33m(\u001b[0m\u001b[1;33m)\u001b[0m\u001b[1;33m\u001b[0m\u001b[1;33m\u001b[0m\u001b[0m\n\u001b[0m\u001b[0;32m      4\u001b[0m     \u001b[0ma\u001b[0m \u001b[1;33m=\u001b[0m \u001b[0mint\u001b[0m\u001b[1;33m(\u001b[0m\u001b[0ma\u001b[0m\u001b[1;33m)\u001b[0m\u001b[1;33m\u001b[0m\u001b[1;33m\u001b[0m\u001b[0m\n\u001b[0;32m      5\u001b[0m     \u001b[0mb\u001b[0m \u001b[1;33m=\u001b[0m \u001b[0mint\u001b[0m\u001b[1;33m(\u001b[0m\u001b[0mb\u001b[0m\u001b[1;33m)\u001b[0m\u001b[1;33m\u001b[0m\u001b[1;33m\u001b[0m\u001b[0m\n",
      "\u001b[1;31mValueError\u001b[0m: not enough values to unpack (expected 2, got 1)"
     ]
    }
   ],
   "source": [
    "i = 0\n",
    "while i < 5:\n",
    "    a, b = input().split()\n",
    "    a = int(a)\n",
    "    b = int(b)\n",
    "    print(a + b)"
   ]
  },
  {
   "cell_type": "code",
   "execution_count": 5,
   "metadata": {},
   "outputs": [
    {
     "name": "stdout",
     "output_type": "stream",
     "text": [
      "10\n"
     ]
    }
   ],
   "source": [
    "i = 0\n",
    "s = 0\n",
    "while i < 10:\n",
    "    i = i + 1\n",
    "    s = s + i\n",
    "    if s > 15:\n",
    "        continue\n",
    "    i = i + 1\n",
    "print(i)"
   ]
  },
  {
   "cell_type": "code",
   "execution_count": 8,
   "metadata": {},
   "outputs": [
    {
     "name": "stdout",
     "output_type": "stream",
     "text": [
      "6\n",
      "7\n",
      "10\n",
      "10\n",
      "12\n",
      "12\n",
      "101\n"
     ]
    }
   ],
   "source": [
    "while True:\n",
    "    num = int(input())\n",
    "    if num < 10:\n",
    "        continue\n",
    "    if num > 100:\n",
    "        break\n",
    "    print(num)"
   ]
  },
  {
   "cell_type": "code",
   "execution_count": 25,
   "metadata": {},
   "outputs": [
    {
     "name": "stdout",
     "output_type": "stream",
     "text": [
      "4\n",
      "5\n",
      "1\n",
      "6\n",
      "\t\n",
      "\t 1\t 2\t 3\t 4\t 5\t 6\n",
      "4\t 4\t 8\t 12\t 16\t 20\t 24\n",
      "5\t 5\t 10\t 15\t 20\t 25\t 30\n"
     ]
    }
   ],
   "source": [
    "a, b, c, d = (int(input()) for i in range(4))\n",
    "for n in range(a, b + 1):\n",
    "    if n == a:\n",
    "        print('\\t')\n",
    "        for x in range(c, d + 1):\n",
    "            print('\\t', x, end='')\n",
    "        print()\n",
    "    print(n, end='')\n",
    "    for x in range(c, d + 1):\n",
    "        print('\\t', x * n, end='')\n",
    "    print()\n",
    "  \n",
    "# One of correct answers\n",
    "# a, b, c, d = (int(input()) for i in range(4))\n",
    "# for n in range(a, b + 1):\n",
    "#     if n == a:\n",
    "#         print('\\t')\n",
    "#         for x in range(c, d + 1):\n",
    "#             print('\\t', x, end='')\n",
    "#     print('\\n', n, end='')\n",
    "#     for x in range(c, d + 1):\n",
    "#         print('\\t', x * n, end='')\n",
    "#     print()"
   ]
  },
  {
   "cell_type": "code",
   "execution_count": 28,
   "metadata": {},
   "outputs": [
    {
     "name": "stdout",
     "output_type": "stream",
     "text": [
      "-5\n",
      "12\n",
      "4.5\n"
     ]
    }
   ],
   "source": [
    "a, b = (int(input()) for i in range(2))\n",
    "n = 0\n",
    "s = 0\n",
    "for i in range(a, b + 1):\n",
    "    if i % 3 == 0:\n",
    "        n += 1\n",
    "        s += i\n",
    "print(s / n)"
   ]
  },
  {
   "cell_type": "code",
   "execution_count": 31,
   "metadata": {},
   "outputs": [
    {
     "name": "stdout",
     "output_type": "stream",
     "text": [
      "acggtgttat\n",
      "40.0\n"
     ]
    }
   ],
   "source": [
    "genom = input()\n",
    "c = genom.lower().count('c')\n",
    "g = genom.lower().count('g')\n",
    "print((c + g) / len(genom) * 100)\n",
    "\n",
    "# Nice variant\n",
    "# s = input().upper()\n",
    "# print((s.count('G') + s.count('C'))/len(s) * 100)"
   ]
  },
  {
   "cell_type": "code",
   "execution_count": 35,
   "metadata": {},
   "outputs": [
    {
     "name": "stdout",
     "output_type": "stream",
     "text": [
      "abcdefghijk\n"
     ]
    },
    {
     "data": {
      "text/plain": [
       "'kjihgfedcba'"
      ]
     },
     "execution_count": 35,
     "metadata": {},
     "output_type": "execute_result"
    }
   ],
   "source": [
    "genom = input().lower()\n",
    "genom == genom[::-1]\n",
    "genom[::-1]"
   ]
  },
  {
   "cell_type": "code",
   "execution_count": 50,
   "metadata": {},
   "outputs": [
    {
     "name": "stdout",
     "output_type": "stream",
     "text": [
      "abcdefghijk\n",
      "a1b1c1d1e1f1g1h1i1j1k1\n"
     ]
    }
   ],
   "source": [
    "genom = input()\n",
    "new_genom = genom[0]\n",
    "i = 1\n",
    "while i < len(genom):\n",
    "    n = 1\n",
    "    if genom[i-1] == genom[i]:\n",
    "        while  i < len(genom) and genom[i-1] == genom[i]:\n",
    "            i += 1\n",
    "            n += 1         \n",
    "    if i == len(genom):\n",
    "        break\n",
    "    else: \n",
    "        new_genom = new_genom + str(n) + genom[i] \n",
    "    i +=1\n",
    "new_genom += str(n)\n",
    "print(new_genom)\n",
    "\n",
    "# Nice example\n",
    "# genome = input()+' '\n",
    "# s = 0\n",
    "# n=genome[0]\n",
    "# for i in genome:       \n",
    "#     if n!=i:\n",
    "#         print(n + str(s), end = '')\n",
    "#         s=0\n",
    "#         n=i\n",
    "#     s+=1"
   ]
  },
  {
   "cell_type": "code",
   "execution_count": 52,
   "metadata": {},
   "outputs": [
    {
     "name": "stdout",
     "output_type": "stream",
     "text": [
      "4 -1 9 3\n",
      "15\n"
     ]
    }
   ],
   "source": [
    "nums = [int(i) for i in input().split()]\n",
    "print(sum(nums))\n"
   ]
  },
  {
   "cell_type": "code",
   "execution_count": 62,
   "metadata": {},
   "outputs": [
    {
     "name": "stdout",
     "output_type": "stream",
     "text": [
      "1 2 3 4\n"
     ]
    },
    {
     "data": {
      "text/plain": [
       "'6 4 6 4'"
      ]
     },
     "execution_count": 62,
     "metadata": {},
     "output_type": "execute_result"
    }
   ],
   "source": [
    "nums = [int(i) for i in input().split()]\n",
    "ans = []\n",
    "if len(nums) == 1:\n",
    "    ans = nums.copy()\n",
    "else:\n",
    "    for i in range(len(nums)):     \n",
    "        if i == len(nums) - 1:\n",
    "            ans.append(nums[i - 1] + nums[0])\n",
    "            break\n",
    "        ans.append(nums[i + 1] + nums[i - 1])\n",
    "        i += 1\n",
    "' '.join(str(x) for x in ans)\n",
    "\n",
    "# Nice!\n",
    "# a=[int(i) for i in input().split()]\n",
    "# if len(a)>1:\n",
    "#     for i in range(len(a)):\n",
    "#         print(a[i-1]+a[i+1-len(a)])\n",
    "# else:\n",
    "#     print(a[0])"
   ]
  },
  {
   "cell_type": "code",
   "execution_count": null,
   "metadata": {},
   "outputs": [],
   "source": [
    "numList = ['1', '2', '3', '4']\n",
    "separator = ', '\n",
    "print(separator.join(numList))"
   ]
  },
  {
   "cell_type": "code",
   "execution_count": 72,
   "metadata": {},
   "outputs": [
    {
     "name": "stdout",
     "output_type": "stream",
     "text": [
      "4 8 0 3 4 2 0 3\n",
      "034\n"
     ]
    }
   ],
   "source": [
    "nums = [int(i) for i in input().split()]\n",
    "nums.sort()\n",
    "ans = []\n",
    "for num in nums:\n",
    "    if nums.count(num) > 1:\n",
    "        ans.append(num)\n",
    "print(' '.join(str(x) for x in list(dict.fromkeys(ans)))) # сложно убираем дубликаты :)\n",
    "\n",
    "# Nice!\n",
    "# ls = [int(i) for i in input().split()]\n",
    "# for i in set(ls):\n",
    "#     if ls.count(i) > 1:\n",
    "#         print(i, end=' ')"
   ]
  },
  {
   "cell_type": "code",
   "execution_count": 77,
   "metadata": {},
   "outputs": [
    {
     "name": "stdout",
     "output_type": "stream",
     "text": [
      "1\n",
      "-3\n",
      "2\n",
      "14\n"
     ]
    }
   ],
   "source": [
    "nums = []\n",
    "ans = 0\n",
    "while True:\n",
    "    nums.append(int(input()))\n",
    "    if sum(nums) == 0:\n",
    "        break\n",
    "print(sum([i ** 2 for i in nums]))"
   ]
  },
  {
   "cell_type": "code",
   "execution_count": 82,
   "metadata": {},
   "outputs": [
    {
     "name": "stdout",
     "output_type": "stream",
     "text": [
      "8\n",
      "1 2 2 3 3 3 4 4 "
     ]
    }
   ],
   "source": [
    "n = int(input())\n",
    "i = 0\n",
    "counter = 1\n",
    "while counter <= n:\n",
    "    j = 0  \n",
    "    while j != i + 1 and counter <= n:\n",
    "        print(i + 1, end=' ')\n",
    "        j += 1\n",
    "        counter += 1\n",
    "    i += 1    "
   ]
  },
  {
   "cell_type": "code",
   "execution_count": 86,
   "metadata": {},
   "outputs": [
    {
     "name": "stdout",
     "output_type": "stream",
     "text": [
      "5 8 2 7 8 8 2 4\n",
      "8\n",
      "1 4 5 "
     ]
    }
   ],
   "source": [
    "nums = [int(i) for i in input().split()]\n",
    "test = int(input())\n",
    "if test not in nums:\n",
    "    print('Отсутствует')\n",
    "else:\n",
    "    for index, num in enumerate(nums):\n",
    "        if test == num:\n",
    "            print(index, end=' ')"
   ]
  },
  {
   "cell_type": "code",
   "execution_count": 55,
   "metadata": {},
   "outputs": [
    {
     "name": "stdout",
     "output_type": "stream",
     "text": [
      "1 2\n",
      "end\n",
      "6 6 "
     ]
    }
   ],
   "source": [
    "matrix = []\n",
    "res = []\n",
    "while True:\n",
    "    line = input().split()\n",
    "    if line[0] == 'end':\n",
    "        break\n",
    "    matrix.append([int(x) for x in line])\n",
    "# print(matrix)\n",
    "row = len(matrix)\n",
    "column = len(matrix[0])\n",
    "if row == 1 and column > 1:\n",
    "    for j in range(column):\n",
    "        elem = matrix[0][j] * 2\n",
    "        for dj in range(-1, 2, 2):\n",
    "            if dj < 0:\n",
    "                elem += matrix[0][j + dj]\n",
    "            else:\n",
    "                elem += matrix[0][j + dj - column]\n",
    "        res.append(elem)\n",
    "        print(elem, end=' ')\n",
    "elif column == 1 and row > 1:\n",
    "    for i in range(row):\n",
    "        elem = matrix[i][0] * 2\n",
    "        for di in range(-1, 2, 2):\n",
    "            if di < 0:\n",
    "                elem += matrix[i + di][0]\n",
    "            else:\n",
    "                elem += matrix[i + di - row][0]\n",
    "        res.append(elem)\n",
    "        print(elem)\n",
    "elif column == 1 and row == 1:\n",
    "    print(matrix[0][0] * 4)\n",
    "else:\n",
    "    for i in range(row):\n",
    "        for j in range(column):\n",
    "            elem = 0\n",
    "            for di in range(-1, 2, 2):\n",
    "                if di < 0:\n",
    "                    elem += matrix[i + di][j]\n",
    "                else:\n",
    "                    elem += matrix[i + di - row][j]\n",
    "            for dj in range(-1, 2, 2):\n",
    "                if dj < 0:\n",
    "                    elem += matrix[i][j + dj]\n",
    "                else:\n",
    "                    elem += matrix[i][j + dj - column]\n",
    "            res.append(elem)\n",
    "            print(elem, end=' ')\n",
    "        print()\n",
    "# res\n",
    "\n",
    "# Correct answer!!!\n",
    "# c = []\n",
    "# while True:\n",
    "#     a = [i for i in input().split()]\n",
    "#     if a == ['end']:\n",
    "#         break\n",
    "#     c.append(a)\n",
    "# n, m = len(c), len(c[0])\n",
    "# for i in range(n):\n",
    "#     for j in range(m):\n",
    "#         x = int(c[i][j-1]) + int(c[i][j+1-m]) + int(c[i-1][j]) + int(c[i+1-n][j])\n",
    "#         print(x, end=' ')\n",
    "#     print()"
   ]
  },
  {
   "cell_type": "code",
   "execution_count": 34,
   "metadata": {},
   "outputs": [
    {
     "name": "stdout",
     "output_type": "stream",
     "text": [
      "5\n",
      "[1, 2, 3, 4, 5, 6, 7, 8, 9, 10, 11, 12, 13, 14, 15, 16, 17, 18, 19, 20, 21, 22, 23, 24, 25]\n",
      "index before for:  23\n",
      "24\n"
     ]
    },
    {
     "data": {
      "text/plain": [
       "[[1, 2, 3, 4, 5],\n",
       " [16, 17, 18, 19, 6],\n",
       " [15, 24, 25, 20, 7],\n",
       " [14, 23, 22, 21, 8],\n",
       " [13, 12, 11, 10, 9]]"
      ]
     },
     "execution_count": 34,
     "metadata": {},
     "output_type": "execute_result"
    }
   ],
   "source": [
    "n = int(input())\n",
    "lst = list(range(1, n ** 2 + 1))\n",
    "print(lst)\n",
    "matrix = [[0 for i in range(n)] for j in range(n)]\n",
    "index = 0\n",
    "for j in range(n):\n",
    "    matrix[0][j] = lst[index]\n",
    "    index += 1\n",
    "for j in range(n): \n",
    "    \n",
    "for i in range(n - j - 1):\n",
    "    matrix[i + 1][n - 1] = lst[index]\n",
    "    index += 1\n",
    "for j in range(n - j - 1):\n",
    "    j += 1\n",
    "    matrix[n - 1][n - 1 - j] = lst[index]\n",
    "    index +=1\n",
    "for i in range(n - j - 1):\n",
    "    i += 1\n",
    "    matrix[n - 1 - i][0] = lst[index]\n",
    "    index += 1\n",
    "for j in range(n - j - 1):\n",
    "    j += 1\n",
    "    i = 1\n",
    "    matrix[i][j] = lst[index]\n",
    "    index += 1\n",
    "for i in range(n - j - 1):\n",
    "    matrix[n - 3 + i][n - 2] = lst[index]\n",
    "    index += 1\n",
    "for j in range(n -  j - 1):\n",
    "    matrix[n - 2][n - 3 - j] = lst[index]\n",
    "    index +=1\n",
    "print('index before for: ', index)\n",
    "for i in range(n - j - 1):\n",
    "    matrix[n - 3 + i][n - 4] = lst[index]\n",
    "#     print(index)\n",
    "    index += 1\n",
    "for j in range(n - j - 1):\n",
    "    print(index)\n",
    "    matrix[n - 3][n - 3] = lst[index]\n",
    "#     index += 1\n",
    "matrix\n",
    "# len(lst)"
   ]
  },
  {
   "cell_type": "code",
   "execution_count": 30,
   "metadata": {},
   "outputs": [
    {
     "name": "stdout",
     "output_type": "stream",
     "text": [
      "5\n",
      "[1, 2, 3, 4, 5, 6, 7, 8, 9, 10, 11, 12, 13, 14, 15, 16, 17, 18, 19, 20, 21, 22, 23, 24, 25]\n",
      "1 2 3 4 5 \n",
      "16 17 18 19 6 \n",
      "15 24 25 20 7 \n",
      "14 23 22 21 8 \n",
      "13 12 11 10 9 \n"
     ]
    }
   ],
   "source": [
    "n = int(input())\n",
    "lst = list(range(1, n ** 2 + 1))\n",
    "# print(lst)\n",
    "matrix = [[0 for i in range(n)] for j in range(n)]\n",
    "index = 0\n",
    "border_up = 0\n",
    "border_bottom = n - 1\n",
    "border_left = 0\n",
    "border_right = n - 1\n",
    "for i in range(n):\n",
    "    matrix[border_left][i] = lst[index]\n",
    "    index += 1\n",
    "border_up += 1\n",
    "for j in range(1, n):\n",
    "    if j % 2 == 1:  \n",
    "# Заполнение сверху вниз\n",
    "        for i in range(border_up, border_bottom + 1):\n",
    "            matrix[i][border_right] = lst[index]\n",
    "            index += 1\n",
    "        border_right -= 1\n",
    "# Заполнение справа налево\n",
    "        for i in range(border_right, border_left - 1, -1):\n",
    "            matrix[border_bottom][i] = lst[index]\n",
    "            index += 1\n",
    "        border_bottom -= 1\n",
    "    if j % 2 == 0:    \n",
    "# Заполнение снизу вверх\n",
    "        for i in range(border_bottom, border_up - 1, -1):\n",
    "            matrix[i][border_left] = lst[index]\n",
    "            index += 1\n",
    "        border_left += 1\n",
    "# Заполнение слева направо\n",
    "        for i in range(border_left, border_right + 1):\n",
    "            matrix[border_up][i] = lst[index]\n",
    "            index += 1\n",
    "        border_up += 1\n",
    "for i in range(len(matrix)):\n",
    "    for j in range(len(matrix[0])):\n",
    "        print(matrix[i][j], end=' ')\n",
    "    print()"
   ]
  },
  {
   "cell_type": "code",
   "execution_count": 1,
   "metadata": {},
   "outputs": [
    {
     "name": "stdout",
     "output_type": "stream",
     "text": [
      "4\n",
      "[1, 2, 3, 4, 5, 6, 7, 8, 9, 10, 11, 12, 13, 14, 15, 16]\n"
     ]
    }
   ],
   "source": [
    "n = int(input())\n",
    "lst = list(range(1, n ** 2 + 1))\n",
    "print(lst)"
   ]
  },
  {
   "cell_type": "code",
   "execution_count": 17,
   "metadata": {},
   "outputs": [
    {
     "name": "stdout",
     "output_type": "stream",
     "text": [
      "5\n",
      "[1, 2, 3, 4, 5, 6, 7, 8, 9, 10, 11, 12, 13, 14, 15, 16, 17, 18, 19, 20, 21, 22, 23, 24, 25]\n"
     ]
    }
   ],
   "source": [
    "n = int(input())\n",
    "lst = list(range(1, n ** 2 + 1))\n",
    "print(lst)\n",
    "matrix = [[0 for i in range(n)] for j in range(n)]\n",
    "index = 0\n",
    "border_up = 0\n",
    "border_bottom = n\n",
    "border_left = 0\n",
    "border_right = n"
   ]
  },
  {
   "cell_type": "code",
   "execution_count": 8,
   "metadata": {},
   "outputs": [
    {
     "data": {
      "text/plain": [
       "True"
      ]
     },
     "execution_count": 8,
     "metadata": {},
     "output_type": "execute_result"
    }
   ],
   "source": [
    "border_bottom > border_up and border_right > border_left"
   ]
  },
  {
   "cell_type": "code",
   "execution_count": 18,
   "metadata": {
    "collapsed": true
   },
   "outputs": [
    {
     "name": "stdout",
     "output_type": "stream",
     "text": [
      "5 1 5 0\n",
      "True\n",
      "5 1 5 0\n",
      "True\n",
      "5 1 5 0\n",
      "True\n",
      "5 1 5 0\n",
      "True\n"
     ]
    }
   ],
   "source": [
    "for i in range(n):\n",
    "    matrix[border_left][i] = lst[index]\n",
    "    index += 1\n",
    "border_up += 1\n",
    "for j in range(1, n):\n",
    "    print(border_bottom, border_up, border_right, border_left)\n",
    "    print((border_bottom > border_up) and (border_right > border_left))"
   ]
  },
  {
   "cell_type": "markdown",
   "metadata": {},
   "source": [
    "### Функции. Словали. Интерпретатор. Файлы. Модуль"
   ]
  },
  {
   "cell_type": "code",
   "execution_count": 1,
   "metadata": {},
   "outputs": [],
   "source": [
    "def f(n):\n",
    "    return n * 10 + 5"
   ]
  },
  {
   "cell_type": "code",
   "execution_count": 2,
   "metadata": {
    "collapsed": true
   },
   "outputs": [
    {
     "data": {
      "text/plain": [
       "10555"
      ]
     },
     "execution_count": 2,
     "metadata": {},
     "output_type": "execute_result"
    }
   ],
   "source": [
    "f(f(f(10)))"
   ]
  },
  {
   "cell_type": "code",
   "execution_count": 29,
   "metadata": {},
   "outputs": [],
   "source": [
    "def func(x):\n",
    "    if x <= -2:\n",
    "        return 1 - (x + 2) ** 2\n",
    "    elif -2 < x <= 2:\n",
    "        return -x / 2\n",
    "    else:\n",
    "        return (x - 2) ** 2 + 1"
   ]
  },
  {
   "cell_type": "code",
   "execution_count": 30,
   "metadata": {
    "collapsed": true
   },
   "outputs": [
    {
     "name": "stdout",
     "output_type": "stream",
     "text": [
      "7.25\n"
     ]
    }
   ],
   "source": [
    "print(func(4.5))"
   ]
  },
  {
   "cell_type": "markdown",
   "metadata": {},
   "source": [
    "### Task\n",
    "Напишите функцию modify_list(l), которая принимает на вход список целых чисел, удаляет из него все нечётные значения, а чётные нацело делит на два. Функция не должна ничего возвращать, требуется только изменение переданного списка, например:\n",
    "\n",
    "lst = [1, 2, 3, 4, 5, 6]\n",
    "print(modify_list(lst))  # None\n",
    "print(lst)               # [1, 2, 3]\n",
    "modify_list(lst)\n",
    "print(lst)               # [1]\n",
    "\n",
    "lst = [10, 5, 8, 3]\n",
    "modify_list(lst)\n",
    "print(lst)               # [5, 4]"
   ]
  },
  {
   "cell_type": "code",
   "execution_count": 99,
   "metadata": {},
   "outputs": [],
   "source": [
    "def modify_list(l):\n",
    "    start = len(l) - 1\n",
    "    finish = -1\n",
    "    step = -1\n",
    "    for x in range(start, finish, step):\n",
    "        if l[x] % 2 == 1:\n",
    "            l.remove(l[x])\n",
    "    for i in range(len(l)):\n",
    "        l[i] = l[i] // 2\n",
    "        \n",
    "# Correct answer!\n",
    "# def modify_list(l):\n",
    "#     l[:] = [i//2 for i in l if not i % 2]"
   ]
  },
  {
   "cell_type": "code",
   "execution_count": 100,
   "metadata": {
    "collapsed": true
   },
   "outputs": [
    {
     "name": "stdout",
     "output_type": "stream",
     "text": [
      "None\n"
     ]
    }
   ],
   "source": [
    "lst = [10, 5, 8, 3]\n",
    "print(modify_list(lst))"
   ]
  },
  {
   "cell_type": "code",
   "execution_count": 101,
   "metadata": {},
   "outputs": [
    {
     "data": {
      "text/plain": [
       "[]"
      ]
     },
     "execution_count": 101,
     "metadata": {},
     "output_type": "execute_result"
    }
   ],
   "source": [
    "lst = [1, 3, 3, 5, 5, 7]\n",
    "modify_list(lst)\n",
    "# modify_list(lst)\n",
    "lst"
   ]
  },
  {
   "cell_type": "code",
   "execution_count": 102,
   "metadata": {
    "collapsed": true
   },
   "outputs": [
    {
     "data": {
      "text/plain": [
       "[1, 2, 3]"
      ]
     },
     "execution_count": 102,
     "metadata": {},
     "output_type": "execute_result"
    }
   ],
   "source": [
    "lst = [10, 5, 8, 3]\n",
    "lst = [1, 2, 3, 4, 5, 6]\n",
    "modify_list(lst)\n",
    "lst"
   ]
  },
  {
   "cell_type": "code",
   "execution_count": 129,
   "metadata": {},
   "outputs": [],
   "source": [
    "def update_dictionary(d, key, value):\n",
    "    if key in d.keys():\n",
    "        d[key].append(value)            \n",
    "    elif 2 * key in d.keys():\n",
    "        d[2 * key].append(value)\n",
    "    else:\n",
    "        d[key * 2] = [value]\n",
    "        "
   ]
  },
  {
   "cell_type": "code",
   "execution_count": 130,
   "metadata": {},
   "outputs": [
    {
     "data": {
      "text/plain": [
       "{4: [-10]}"
      ]
     },
     "execution_count": 130,
     "metadata": {},
     "output_type": "execute_result"
    }
   ],
   "source": [
    "d = {}\n",
    "update_dictionary(d, 2, -10)\n",
    "d"
   ]
  },
  {
   "cell_type": "code",
   "execution_count": 118,
   "metadata": {},
   "outputs": [
    {
     "data": {
      "text/plain": [
       "{4: [-10], 2: [-1]}"
      ]
     },
     "execution_count": 118,
     "metadata": {},
     "output_type": "execute_result"
    }
   ],
   "source": [
    "update_dictionary(d, 1, -1)\n",
    "d"
   ]
  },
  {
   "cell_type": "code",
   "execution_count": 120,
   "metadata": {},
   "outputs": [
    {
     "data": {
      "text/plain": [
       "{4: [-10], 2: [-1, '0', '0']}"
      ]
     },
     "execution_count": 120,
     "metadata": {},
     "output_type": "execute_result"
    }
   ],
   "source": [
    "update_dictionary(d, 2, 0)\n",
    "d"
   ]
  },
  {
   "cell_type": "code",
   "execution_count": 131,
   "metadata": {},
   "outputs": [
    {
     "name": "stdout",
     "output_type": "stream",
     "text": [
      "None\n",
      "{2: [-1]}\n",
      "{2: [-1, -2]}\n",
      "{2: [-1, -2, -3]}\n"
     ]
    }
   ],
   "source": [
    "d = {}\n",
    "print(update_dictionary(d, 1, -1))  # None\n",
    "print(d)                            # {2: [-1]}\n",
    "update_dictionary(d, 2, -2)\n",
    "print(d)                            # {2: [-1, -2]}\n",
    "update_dictionary(d, 1, -3)\n",
    "print(d)"
   ]
  },
  {
   "cell_type": "markdown",
   "metadata": {},
   "source": [
    "### Task\n",
    "\n",
    "Когда Антон прочитал «Войну и мир», ему стало интересно, сколько слов и в каком количестве используется в этой книге.\n",
    "\n",
    "Помогите Антону написать упрощённую версию такой программы, которая сможет подсчитать слова, разделённые пробелом и вывести получившуюся статистику.\n",
    "\n",
    "Программа должна считывать одну строку со стандартного ввода и выводить для каждого уникального слова в этой строке число его повторений (без учёта регистра) в формате \"слово количество\" (см. пример вывода).\n",
    "Порядок вывода слов может быть произвольным, каждое уникальное слово﻿ должно выводиться только один раз."
   ]
  },
  {
   "cell_type": "code",
   "execution_count": 141,
   "metadata": {},
   "outputs": [
    {
     "name": "stdout",
     "output_type": "stream",
     "text": [
      "a A a\n"
     ]
    },
    {
     "data": {
      "text/plain": [
       "{'a'}"
      ]
     },
     "execution_count": 141,
     "metadata": {},
     "output_type": "execute_result"
    }
   ],
   "source": [
    "line = input().split()\n",
    "line = [symb.lower() for symb in line]\n",
    "my_set = set(line)\n",
    "my_set"
   ]
  },
  {
   "cell_type": "code",
   "execution_count": 142,
   "metadata": {},
   "outputs": [
    {
     "name": "stdout",
     "output_type": "stream",
     "text": [
      "a 3\n"
     ]
    }
   ],
   "source": [
    "for key in my_set:\n",
    "    counter = 0\n",
    "    for i in line:\n",
    "        if key == i:\n",
    "            counter +=1\n",
    "    print(key, counter)"
   ]
  },
  {
   "cell_type": "code",
   "execution_count": 143,
   "metadata": {},
   "outputs": [],
   "source": [
    "# Nice code!\n",
    "\n",
    "# s = input().lower().split()\n",
    "# for i in set(s):\n",
    "#     print(i, s.count(i))"
   ]
  },
  {
   "cell_type": "markdown",
   "metadata": {},
   "source": [
    "### Task\n",
    "\n",
    "Напишите программу, которая считывает строку с числом nnn, которое задаёт количество чисел, которые нужно считать. Далее считывает nnn строк с числами xix_ixi​, по одному числу в каждой строке. Итого будет n+1n+1n+1 строк.\n",
    "\n",
    "При считывании числа xix_ixi​ программа должна на отдельной строке вывести значение f(xi)f(x_i)f(xi​). Функция f(x) уже реализована и доступна для вызова. \n",
    "\n",
    "Функция вычисляется достаточно долго и зависит только от переданного аргумента x x x. Для того, чтобы уложиться в ограничение по времени, нужно избежать повторного вычисления значений."
   ]
  },
  {
   "cell_type": "code",
   "execution_count": 2,
   "metadata": {
    "collapsed": true
   },
   "outputs": [
    {
     "name": "stdout",
     "output_type": "stream",
     "text": [
      "5\n",
      "2\n",
      "4\n",
      "5\n",
      "25\n",
      "3\n",
      "9\n",
      "5\n",
      "25\n",
      "7\n",
      "49\n"
     ]
    }
   ],
   "source": [
    "def f(x):\n",
    "    return x ** 2\n",
    "\n",
    "def update_dictionary(d, key, value):\n",
    "    if key not in d.keys():\n",
    "        d[key] = value\n",
    "\n",
    "n = int(input())\n",
    "a = {}\n",
    "for i in range(n):\n",
    "    value = int(input())\n",
    "    if value not in a:\n",
    "        update_dictionary(a, value, f(value))\n",
    "    print(a.get(value))"
   ]
  },
  {
   "cell_type": "code",
   "execution_count": 3,
   "metadata": {
    "collapsed": true
   },
   "outputs": [
    {
     "ename": "SyntaxError",
     "evalue": "invalid syntax (<ipython-input-3-88a356dfc249>, line 9)",
     "output_type": "error",
     "traceback": [
      "\u001b[1;36m  File \u001b[1;32m\"<ipython-input-3-88a356dfc249>\"\u001b[1;36m, line \u001b[1;32m9\u001b[0m\n\u001b[1;33m    Short view\u001b[0m\n\u001b[1;37m             ^\u001b[0m\n\u001b[1;31mSyntaxError\u001b[0m\u001b[1;31m:\u001b[0m invalid syntax\n"
     ]
    }
   ],
   "source": [
    "# Correct answer \n",
    "d = {}\n",
    "for _ in range(int(input())):\n",
    "    x = int(input())\n",
    "    if x not in d:\n",
    "        d[x] = f(x)\n",
    "    print(d[x])\n",
    "\n",
    "# Short view\n",
    "a=[int(input()) for i in range(int(input()))]\n",
    "b={x:f(x) for x in set(a)}\n",
    "for i in a:\n",
    "    print(b[i])"
   ]
  },
  {
   "cell_type": "markdown",
   "metadata": {},
   "source": [
    "### Task\n",
    "\n",
    "Напишите программу, которая считывает из файла строку, соответствующую тексту, сжатому с помощью кодирования повторов, и производит обратную операцию, получая исходный текст.\n",
    "\n",
    "Запишите полученный текст в файл и прикрепите его, как ответ на это задание.\n",
    "\n",
    "В исходном тексте не встречаются цифры, так что код однозначно интерпретируем.\n",
    "\n",
    "Примечание. Это первое задание типа Dataset Quiz. В таких заданиях после нажатия \"Start Quiz\" у вас появляется ссылка \"download your dataset\". Используйте эту ссылку для того, чтобы загрузить файл со входными данными к себе на компьютер. Запустите вашу программу, используя этот файл в качестве входных данных. Выходной файл, который при этом у вас получится, надо отправить в качестве ответа на эту задачу. "
   ]
  },
  {
   "cell_type": "code",
   "execution_count": 54,
   "metadata": {},
   "outputs": [],
   "source": [
    "import re\n",
    "with open('dataset_3363_2.txt', 'r') as data:\n",
    "    new_line = re.split('(\\d+)', data.readline())\n",
    "    final_line = ''.join(new_line[i] * int(new_line[i + 1]) for i in range(len(new_line) - 1) if i % 2 == 0)\n",
    "with open('new_data.txt', 'w') as data2:\n",
    "    data2.write(final_line)"
   ]
  },
  {
   "cell_type": "code",
   "execution_count": 6,
   "metadata": {
    "collapsed": true
   },
   "outputs": [
    {
     "name": "stdout",
     "output_type": "stream",
     "text": [
      "a1N7I19r10j10g19p13o20f13G4Y17r7n16y10c6F13Z8n4w11Y1\n",
      "aNNNNNNNIIIIIIIIIIIIIIIIIIIrrrrrrrrrrjjjjjjjjjjgggggggggggggggggggpppppppppppppoooooooooooooooooooofffffffffffffGGGGYYYYYYYYYYYYYYYYYrrrrrrrnnnnnnnnnnnnnnnnyyyyyyyyyyccccccFFFFFFFFFFFFFZZZZZZZZnnnnwwwwwwwwwww"
     ]
    },
    {
     "ename": "IndexError",
     "evalue": "string index out of range",
     "output_type": "error",
     "traceback": [
      "\u001b[1;31m---------------------------------------------------------------------------\u001b[0m",
      "\u001b[1;31mIndexError\u001b[0m                                Traceback (most recent call last)",
      "\u001b[1;32m<ipython-input-6-0302e39a04cb>\u001b[0m in \u001b[0;36m<module>\u001b[1;34m\u001b[0m\n\u001b[0;32m      9\u001b[0m     \u001b[0mnumber\u001b[0m\u001b[1;33m=\u001b[0m\u001b[1;34m''\u001b[0m\u001b[1;33m\u001b[0m\u001b[1;33m\u001b[0m\u001b[0m\n\u001b[0;32m     10\u001b[0m     \u001b[1;32mif\u001b[0m \u001b[0ms\u001b[0m\u001b[1;33m[\u001b[0m\u001b[0mi\u001b[0m\u001b[1;33m]\u001b[0m\u001b[1;33m.\u001b[0m\u001b[0misalpha\u001b[0m\u001b[1;33m(\u001b[0m\u001b[1;33m)\u001b[0m\u001b[1;33m:\u001b[0m\u001b[1;33m\u001b[0m\u001b[1;33m\u001b[0m\u001b[0m\n\u001b[1;32m---> 11\u001b[1;33m         \u001b[1;32mwhile\u001b[0m \u001b[0ms\u001b[0m\u001b[1;33m[\u001b[0m\u001b[0mi\u001b[0m\u001b[1;33m+\u001b[0m\u001b[0mr\u001b[0m\u001b[1;33m]\u001b[0m\u001b[1;33m.\u001b[0m\u001b[0misdigit\u001b[0m\u001b[1;33m(\u001b[0m\u001b[1;33m)\u001b[0m\u001b[1;33m:\u001b[0m\u001b[1;33m\u001b[0m\u001b[1;33m\u001b[0m\u001b[0m\n\u001b[0m\u001b[0;32m     12\u001b[0m             \u001b[0mnumber\u001b[0m \u001b[1;33m+=\u001b[0m \u001b[0mstr\u001b[0m\u001b[1;33m(\u001b[0m\u001b[0ms\u001b[0m\u001b[1;33m[\u001b[0m\u001b[0mi\u001b[0m \u001b[1;33m+\u001b[0m \u001b[0mr\u001b[0m\u001b[1;33m]\u001b[0m\u001b[1;33m)\u001b[0m\u001b[1;33m\u001b[0m\u001b[1;33m\u001b[0m\u001b[0m\n\u001b[0;32m     13\u001b[0m             \u001b[0mr\u001b[0m\u001b[1;33m+=\u001b[0m\u001b[1;36m1\u001b[0m\u001b[1;33m\u001b[0m\u001b[1;33m\u001b[0m\u001b[0m\n",
      "\u001b[1;31mIndexError\u001b[0m: string index out of range"
     ]
    }
   ],
   "source": [
    "# Nice!\n",
    "with open('dataset_3363_2.txt', 'r') as f:\n",
    "    s = f.readline().strip()\n",
    "\n",
    "print(s)\n",
    "\n",
    "for i in range(len(s)):\n",
    "    r = 1\n",
    "    number=''\n",
    "    if s[i].isalpha():\n",
    "        while s[i+r].isdigit():\n",
    "            number += str(s[i + r])\n",
    "            r+=1\n",
    "        for _ in range(int(number)):\n",
    "            print(s[i],end='')\n",
    "\n",
    "\n",
    "# Тут всё достаточно прозрачно. Работа идёт с инкрементированием (к слову, инкремент - хороший костыль во многих случаях, рекомендую!).\n",
    "# 1. Перебираем каждый символ строки, с каждым новым перебором задаём тот самый инкремент r и пустую строку number (где r отвечает за проход от текущего элемента в итерации (элемента s[i] ) ровно на 1 элемент вперед, а number - за число, на которое нужно умножить нашу букву)\n",
    "# 2. Работая ищейкой, r посимвольно вынюхивает, являются ли элементы за s[i] (которое у нас буква) digit-ами. Если так, то в number записывается число после s[i] до тех пор, пока элемент s[i+r] станет НЕdigit (в нашем случае - alpha).\n",
    "# 3. Цикл while заканчивает свою работу, вступает цикл for, который записывает s[i]-ую букву ровно number раз.\n",
    "# 4. Самый первый цикл for идёт дальше по элементам нашей строки и применяет вышеназванные пункты только к ALPHA-элементам ( if s[i].isalpha() ), в ином случае, итерация цикла переходит к следующему символу строки s\n",
    "# 5. Вуаля!\n"
   ]
  },
  {
   "cell_type": "markdown",
   "metadata": {},
   "source": [
    "### Task\n",
    "\n",
    "Недавно мы считали для каждого слова количество его вхождений в строку. Но на все слова может быть не так интересно смотреть, как, например, на наиболее часто используемые.\n",
    "\n",
    "Напишите программу, которая считывает текст из файла (в файле может быть больше одной строки) и выводит самое частое слово в этом тексте и через пробел то, сколько раз оно встретилось. Если таких слов несколько, вывести лексикографически первое (можно использовать оператор < для строк).\n",
    "\n",
    "В качестве ответа укажите вывод программы, а не саму программу.\n",
    "\n",
    "Слова, написанные в разных регистрах, считаются одинаковыми.\n"
   ]
  },
  {
   "cell_type": "code",
   "execution_count": 158,
   "metadata": {},
   "outputs": [],
   "source": [
    "import re\n",
    "from itertools import chain\n",
    "\n",
    "def find_dict_max(dictionary):\n",
    "    max_values = max(dictionary.values())\n",
    "    max_keys = [k for k, v in dictionary.items() if v == max_values]\n",
    "    return min(max_keys)\n",
    "\n",
    "words = []\n",
    "dict_words = {}\n",
    "\n",
    "with open('Толстой.txt', 'r') as txt:\n",
    "    for i in txt:\n",
    "        words.append(i.lower().split())\n",
    "words = list(chain.from_iterable(words))\n",
    "for item in set(words):\n",
    "    dict_words[item] = words.count(item)\n",
    "max_word = find_dict_max(dict_words)\n",
    "\n",
    "with open('dataset3_ans.txt', 'w') as data2:\n",
    "    data2.write('{0} {1}'.format(max_word, dict_words.get(max_word)))"
   ]
  },
  {
   "cell_type": "code",
   "execution_count": 160,
   "metadata": {},
   "outputs": [
    {
     "data": {
      "text/plain": [
       "10243"
      ]
     },
     "execution_count": 160,
     "metadata": {},
     "output_type": "execute_result"
    }
   ],
   "source": [
    "dict_words.get('и')"
   ]
  },
  {
   "cell_type": "code",
   "execution_count": 159,
   "metadata": {},
   "outputs": [
    {
     "name": "stdout",
     "output_type": "stream",
     "text": [
      "и\n"
     ]
    }
   ],
   "source": [
    "for i in dict_words:\n",
    "    if dict_words[i] == dict_words.get(max_word):\n",
    "        print(i)"
   ]
  },
  {
   "cell_type": "code",
   "execution_count": 161,
   "metadata": {
    "scrolled": true
   },
   "outputs": [
    {
     "data": {
      "text/plain": [
       "49280"
      ]
     },
     "execution_count": 161,
     "metadata": {},
     "output_type": "execute_result"
    }
   ],
   "source": [
    "len(dict_words)"
   ]
  },
  {
   "cell_type": "markdown",
   "metadata": {},
   "source": [
    "### Task\n",
    "\n",
    "Имеется файл с данными по успеваемости абитуриентов. Он представляет из себя набор строк, где в каждой строке записана следующая информация:\n",
    "\n",
    "Фамилия;Оценка_по_математике;Оценка_по_физике;Оценка_по_русскому_языку\n",
    "\n",
    "Поля внутри строки разделены точкой с запятой, оценки — целые числа.\n",
    "\n",
    "Напишите программу, которая считывает исходный файл с подобной структурой и для каждого абитуриента записывает его среднюю оценку по трём предметам на отдельной строке, соответствующей этому абитуриенту, в файл с ответом.\n",
    "\n",
    "Также вычислите средние баллы по математике, физике и русскому языку по всем абитуриентам и добавьте полученные значения, разделённые пробелом, последней строкой в файл с ответом.\n",
    "\n",
    "В качестве ответа на задание прикрепите полученный файл со средними оценками по каждому ученику и одной строкой со средними оценками по трём предметам."
   ]
  },
  {
   "cell_type": "code",
   "execution_count": 234,
   "metadata": {},
   "outputs": [],
   "source": [
    "import os\n",
    "if os.path.exists(\"dataset4_ans.txt\"):\n",
    "    os.remove(\"dataset4_ans.txt\") "
   ]
  },
  {
   "cell_type": "code",
   "execution_count": 235,
   "metadata": {},
   "outputs": [],
   "source": [
    "students = []\n",
    "with open('dataset_3363_4.txt') as data:\n",
    "    for d in data:\n",
    "        students.append(d.strip().split(';'))\n",
    "#         print(d)"
   ]
  },
  {
   "cell_type": "code",
   "execution_count": 236,
   "metadata": {},
   "outputs": [],
   "source": [
    "with open('dataset4_ans.txt', 'a') as data2:\n",
    "    for student in students:\n",
    "        counter += 1\n",
    "        marks = list(map(int, student[1:]))\n",
    "#         print(sum(marks) / len(marks))\n",
    "        data2.write(str(round(sum(marks) / len(marks), 9)))\n",
    "        data2.write('\\n')"
   ]
  },
  {
   "cell_type": "code",
   "execution_count": 237,
   "metadata": {
    "scrolled": true
   },
   "outputs": [],
   "source": [
    "with open('dataset4_ans.txt', 'a') as data2:\n",
    "    first_marks, second_marks, third_marks = (0 for i in range(3)) \n",
    "    for i in range(len(students)):\n",
    "            first_marks += int(students[i][1])\n",
    "            second_marks += int(students[i][2])\n",
    "            third_marks += int(students[i][3])\n",
    "    rows = len(students)\n",
    "    data2.write(str(round(first_marks / rows, 9)) + ' ' + str(round(second_marks / rows, 9)) \n",
    "                + ' ' + str(round(third_marks / rows, 9) ))\n",
    "# print(first_marks / rows, second_marks / rows, third_marks / rows)"
   ]
  },
  {
   "cell_type": "code",
   "execution_count": 207,
   "metadata": {
    "collapsed": true
   },
   "outputs": [
    {
     "name": "stdout",
     "output_type": "stream",
     "text": [
      "60.666666666666664\n",
      "\n",
      "54.666666666666664\n",
      "\n",
      "50.333333333333336\n",
      "\n",
      "61.666666666666664\n",
      "\n",
      "82.0\n",
      "\n",
      "67.0\n",
      "\n",
      "59.666666666666664\n",
      "\n",
      "71.66666666666667\n",
      "\n",
      "68.66666666666667\n",
      "\n",
      "66.66666666666667\n",
      "\n",
      "74.0\n",
      "\n",
      "62.333333333333336\n",
      "\n",
      "55.0\n",
      "\n",
      "64.66666666666667\n",
      "\n",
      "53.333333333333336\n",
      "\n",
      "69.33333333333333\n",
      "\n",
      "67.66666666666667\n",
      "\n",
      "43.333333333333336\n",
      "\n",
      "62.0\n",
      "\n",
      "62.0\n",
      "\n",
      "68.0\n",
      "\n",
      "51.333333333333336\n",
      "\n",
      "60.333333333333336\n",
      "\n",
      "90.66666666666667\n",
      "\n",
      "61.0\n",
      "\n",
      "57.333333333333336\n",
      "\n",
      "50.333333333333336\n",
      "\n",
      "45.0\n",
      "\n",
      "71.0\n",
      "\n",
      "75.33333333333333\n",
      "\n",
      "51.666666666666664\n",
      "\n",
      "97.0\n",
      "\n",
      "63.666666666666664\n",
      "\n",
      "48.0\n",
      "\n",
      "76.0\n",
      "\n",
      "56.333333333333336\n",
      "\n",
      "63.0\n",
      "\n",
      "64.66666666666667\n",
      "\n",
      "72.66666666666667\n",
      "\n",
      "68.33333333333333\n",
      "\n",
      "64.66666666666667\n",
      "\n",
      "58.0\n",
      "\n",
      "65.33333333333333\n",
      "\n",
      "71.33333333333333\n",
      "\n",
      "68.33333333333333\n",
      "\n",
      "35.333333333333336\n",
      "\n",
      "67.66666666666667\n",
      "\n",
      "79.66666666666667\n",
      "\n",
      "57.0\n",
      "\n",
      "36.0\n",
      "\n",
      "73.0\n",
      "\n",
      "58.333333333333336\n",
      "\n",
      "70.66666666666667\n",
      "\n",
      "56.333333333333336\n",
      "\n",
      "58.0\n",
      "\n",
      "54.666666666666664\n",
      "\n",
      "73.33333333333333\n",
      "\n",
      "60.0\n",
      "\n",
      "75.33333333333333\n",
      "\n",
      "67.66666666666667\n",
      "\n",
      "43.333333333333336\n",
      "\n",
      "63.666666666666664\n",
      "\n",
      "67.66666666666667\n",
      "\n",
      "72.0\n",
      "\n",
      "58.333333333333336\n",
      "\n",
      "70.0\n",
      "\n",
      "81.66666666666667\n",
      "\n",
      "59.666666666666664\n",
      "\n",
      "40.333333333333336\n",
      "\n",
      "54.666666666666664\n",
      "\n",
      "53.333333333333336\n",
      "\n",
      "73.0\n",
      "\n",
      "73.0\n",
      "\n",
      "80.0\n",
      "\n",
      "51.0\n",
      "\n",
      "35.666666666666664\n",
      "\n",
      "67.0\n",
      "\n",
      "39.666666666666664\n",
      "\n",
      "43.0\n",
      "\n",
      "55.333333333333336\n",
      "\n",
      "38.0\n",
      "\n",
      "68.33333333333333\n",
      "\n",
      "61.666666666666664\n",
      "\n",
      "52.333333333333336\n",
      "\n",
      "82.33333333333333\n",
      "\n",
      "62.666666666666664\n",
      "\n",
      "70.66666666666667\n",
      "\n",
      "67.0\n",
      "\n",
      "58.333333333333336\n",
      "\n",
      "77.0\n",
      "\n",
      "59.666666666666664\n",
      "\n",
      "69.33333333333333\n",
      "\n",
      "80.33333333333333\n",
      "\n",
      "69.33333333333333\n",
      "\n",
      "54.0\n",
      "\n",
      "54.0\n",
      "\n",
      "54.0\n",
      "\n",
      "75.66666666666667\n",
      "\n",
      "85.33333333333333\n",
      "\n",
      "60.80808080808081 65.04040404040404 62.676767676767675\n"
     ]
    }
   ],
   "source": [
    "with open('dataset4_ans.txt', 'r') as data3:\n",
    "    for d in data3:\n",
    "        print(d)"
   ]
  },
  {
   "cell_type": "code",
   "execution_count": 201,
   "metadata": {},
   "outputs": [
    {
     "name": "stdout",
     "output_type": "stream",
     "text": [
      "['Nevill', '89', '64', '29']\n"
     ]
    }
   ],
   "source": [
    "s = 0\n",
    "with open('dataset_3363_4.txt') as data:\n",
    "    d = data.readline().strip().split(';')\n",
    "    print(d)\n",
    "del d[0]\n",
    "new_line = []\n",
    "for i in range(3):\n",
    "    new_line.append(int(d[i]))\n",
    "avg = sum(new_line) / len(new_line)\n",
    "with open('data_test.txt', 'a') as out:\n",
    "    out.write(str(avg))"
   ]
  },
  {
   "cell_type": "code",
   "execution_count": 232,
   "metadata": {},
   "outputs": [
    {
     "data": {
      "text/plain": [
       "71.33333333333333"
      ]
     },
     "execution_count": 232,
     "metadata": {},
     "output_type": "execute_result"
    }
   ],
   "source": [
    "new_line = []\n",
    "for i in range(3):\n",
    "    new_line.append(int(students[-1][i + 1]))\n",
    "avg = sum(new_line) / len(new_line)\n",
    "avg"
   ]
  },
  {
   "cell_type": "code",
   "execution_count": 233,
   "metadata": {},
   "outputs": [
    {
     "data": {
      "text/plain": [
       "149"
      ]
     },
     "execution_count": 233,
     "metadata": {},
     "output_type": "execute_result"
    }
   ],
   "source": [
    "len(students)"
   ]
  },
  {
   "cell_type": "markdown",
   "metadata": {},
   "source": [
    "### Task\n",
    "Напишите программу, которая подключает модуль math и, используя значение числа π \\pi π из этого модуля, находит для переданного ей на стандартный ввод радиуса круга периметр этого круга и выводит его на стандартный вывод."
   ]
  },
  {
   "cell_type": "code",
   "execution_count": 239,
   "metadata": {},
   "outputs": [
    {
     "name": "stdout",
     "output_type": "stream",
     "text": [
      "10\n",
      "62.83185307179586\n"
     ]
    }
   ],
   "source": [
    "from math import pi\n",
    "radius = float(input())\n",
    "print(radius * pi * 2)"
   ]
  },
  {
   "cell_type": "code",
   "execution_count": null,
   "metadata": {},
   "outputs": [],
   "source": []
  },
  {
   "cell_type": "code",
   "execution_count": 246,
   "metadata": {},
   "outputs": [
    {
     "name": "stdout",
     "output_type": "stream",
     "text": [
      "-f C:\\Users\\Akella\\AppData\\Roaming\\jupyter\\runtime\\kernel-bb5e9d2b-25e8-4f5d-acbf-2d266eb298b0.json "
     ]
    }
   ],
   "source": [
    "import sys\n",
    "for i in sys.argv[1:]:\n",
    "    print(i, end=' ')"
   ]
  },
  {
   "cell_type": "markdown",
   "metadata": {},
   "source": [
    "### Task\n",
    "Скачайте файл. В нём указан адрес другого файла, который нужно скачать с использованием модуля requests и посчитать число строк в нём.\n",
    "\n",
    "Используйте функцию get для получения файла (имеет смысл вызвать метод strip к передаваемому параметру, чтобы убрать пробельные символы по краям).\n",
    "\n",
    "После получения файла вы можете проверить результат, обратившись к полю text. Если результат работы скрипта не принимается, проверьте поле url на правильность. Для подсчёта количества строк разбейте текст с помощью метода splitlines.\n",
    "\n",
    "\n",
    "В поле ответа введите одно число или отправьте файл, содержащий одно число."
   ]
  },
  {
   "cell_type": "code",
   "execution_count": 62,
   "metadata": {},
   "outputs": [],
   "source": [
    "import os\n",
    "import requests\n",
    "\n",
    "ans_dir = os.path.join(curr_dir, 'files', 'dataset_3378_ans.txt')\n",
    "\n",
    "if os.path.exists(ans_dir):\n",
    "    os.remove(ans_dir) \n",
    "\n",
    "lst = []\n",
    "curr_dir = os.getcwd()\n",
    "file_dir = os.path.join(curr_dir, 'files', 'dataset_3378_2.txt')\n",
    "with open(file_dir, 'r') as file:\n",
    "    link = file.readline().strip()\n",
    "    r = requests.get(link)\n",
    "    lst = r.text.splitlines()\n",
    "#     print(len(lst))\n",
    "with open(ans_dir, 'w') as out:\n",
    "    out.write(str(len(lst)))"
   ]
  },
  {
   "cell_type": "code",
   "execution_count": 63,
   "metadata": {},
   "outputs": [
    {
     "name": "stdout",
     "output_type": "stream",
     "text": [
      "250\n"
     ]
    }
   ],
   "source": [
    "with open(ans_dir, 'r') as file:\n",
    "    for i in file:\n",
    "        print(i)"
   ]
  },
  {
   "cell_type": "markdown",
   "metadata": {},
   "source": [
    "### Task\n",
    "\n",
    "Имеется набор файлов, каждый из которых, кроме последнего, содержит имя следующего файла.\n",
    "Первое слово в тексте последнего файла: \"We\".\n",
    "\n",
    "Скачайте предложенный файл. В нём содержится ссылка на первый файл из этого набора.\n",
    "\n",
    "Все файлы располагаются в каталоге по адресу:\n",
    "https://stepic.org/media/attachments/course67/3.6.3/\n",
    "\n",
    "Загрузите содержимое ﻿последнего файла из набора, как ответ на это задание."
   ]
  },
  {
   "cell_type": "code",
   "execution_count": 14,
   "metadata": {},
   "outputs": [],
   "source": [
    "import os\n",
    "import requests\n",
    "\n",
    "curr_dir = os.getcwd()\n",
    "ans_dir = os.path.join(curr_dir, 'files', 'dataset_3378_3ans.txt')\n",
    "file_dir = os.path.join(curr_dir, 'files', 'dataset_3378_3.txt')\n",
    "\n",
    "adress = 'https://stepic.org/media/attachments/course67/3.6.3/'\n",
    "\n",
    "\n",
    "if os.path.exists(ans_dir):\n",
    "    os.remove(ans_dir) \n",
    "#         print(r.text)"
   ]
  },
  {
   "cell_type": "code",
   "execution_count": 15,
   "metadata": {},
   "outputs": [],
   "source": [
    "with open(file_dir, 'r') as file:\n",
    "    link = file.readline().strip()\n",
    "    r = requests.get(link)\n",
    "    while r.text[0:2] != 'We':\n",
    "        link = adress + r.text\n",
    "        r = requests.get(link)"
   ]
  },
  {
   "cell_type": "code",
   "execution_count": 16,
   "metadata": {},
   "outputs": [],
   "source": [
    "with open(ans_dir, 'w') as text:\n",
    "    text.write(r.text)"
   ]
  },
  {
   "cell_type": "code",
   "execution_count": 17,
   "metadata": {
    "collapsed": true
   },
   "outputs": [
    {
     "name": "stdout",
     "output_type": "stream",
     "text": [
      "We are the champions, my friends,\n",
      "\n",
      "And we'll keep on fighting 'til the end.\n",
      "\n",
      "We are the champions.\n",
      "\n",
      "We are the champions.\n",
      "\n",
      "No time for losers\n",
      "\n",
      "'Cause we are the champions of the world.\n"
     ]
    }
   ],
   "source": [
    "with open(ans_dir, 'r') as f:\n",
    "    for i in f:\n",
    "        print(i)"
   ]
  },
  {
   "cell_type": "code",
   "execution_count": 18,
   "metadata": {},
   "outputs": [],
   "source": [
    "# Nice \n",
    "# import requests\n",
    "\n",
    "\n",
    "# name = '699991.txt'\n",
    "# url = 'https://stepic.org/media/attachments/course67/3.6.3/'\n",
    "\n",
    "# while 'We' not in name[:2]:\n",
    "#     name = requests.get(url + name).text\n",
    "\n",
    "# print(name)"
   ]
  },
  {
   "cell_type": "markdown",
   "metadata": {},
   "source": [
    "### Task\n",
    "Напишите программу, которая принимает на стандартный вход список игр футбольных команд с результатом матча и выводит на стандартный вывод сводную таблицу результатов всех матчей.\n",
    "\n",
    "За победу команде начисляется 3 очка, за поражение — 0, за ничью — 1.\n",
    "\n",
    "Формат ввода следующий:\n",
    "В первой строке указано целое число n n n — количество завершенных игр.\n",
    "После этого идет n n n строк, в которых записаны результаты игры в следующем формате:\n",
    "Первая_команда;Забито_первой_командой;Вторая_команда;Забито_второй_командой\n",
    "\n",
    "Вывод программы необходимо оформить следующим образом:\n",
    "Команда:Всего_игр Побед Ничьих Поражений Всего_очков\n",
    "\n",
    "Конкретный пример ввода-вывода приведён ниже.\n",
    "\n",
    "Порядок вывода команд произвольный."
   ]
  },
  {
   "cell_type": "markdown",
   "metadata": {},
   "source": [
    "##### Sample Input:\n",
    "\n",
    "3\n",
    "\n",
    "Спартак;9;Зенит;10\n",
    "\n",
    "Локомотив;12;Зенит;3\n",
    "\n",
    "Спартак;8;Локомотив;15\n",
    "\n",
    "##### Sample Output:\n",
    "\n",
    "Спартак:2 0 0 2 0\n",
    "\n",
    "Зенит:2 1 0 1 3\n",
    "\n",
    "Локомотив:2 2 0 0 6"
   ]
  },
  {
   "cell_type": "code",
   "execution_count": 222,
   "metadata": {},
   "outputs": [
    {
     "name": "stdout",
     "output_type": "stream",
     "text": [
      "3\n"
     ]
    }
   ],
   "source": [
    "games = int(input())\n",
    "game_results = []\n",
    "names = []\n",
    "teams = {}"
   ]
  },
  {
   "cell_type": "code",
   "execution_count": 218,
   "metadata": {},
   "outputs": [],
   "source": [
    "def modify_dictionary(d, key1, value1, key2, value2):\n",
    "    for i in range(len(value1)):\n",
    "        d[key1][i] += value1[i]\n",
    "        d[key2][i] += value2[i]\n",
    "\n",
    "def create_dictionary(d, s):\n",
    "    for item in s:\n",
    "        d[item] = [0 for _ in range(5)]           "
   ]
  },
  {
   "cell_type": "code",
   "execution_count": 223,
   "metadata": {},
   "outputs": [
    {
     "name": "stdout",
     "output_type": "stream",
     "text": [
      "Реал Мадрид;9;Барселона;15\n",
      "Ливерпуль;10;Манчестер Юнайтед;6\n",
      "Манчестер Сити;5;Реал Мадрид;8\n"
     ]
    }
   ],
   "source": [
    "for _ in range(games):\n",
    "    game_results.append(input().strip().split(';'))\n",
    "\n",
    "for i in range(len(game_results)):\n",
    "    for j in range(len(game_results[i])):\n",
    "        if j % 2 == 0:\n",
    "            names.append(game_results[i][j])\n",
    "create_dictionary(teams, set(names))"
   ]
  },
  {
   "cell_type": "code",
   "execution_count": 224,
   "metadata": {
    "collapsed": true
   },
   "outputs": [
    {
     "data": {
      "text/plain": [
       "['Реал Мадрид',\n",
       " 'Барселона',\n",
       " 'Ливерпуль',\n",
       " 'Манчестер Юнайтед',\n",
       " 'Манчестер Сити',\n",
       " 'Реал Мадрид']"
      ]
     },
     "execution_count": 224,
     "metadata": {},
     "output_type": "execute_result"
    }
   ],
   "source": [
    "names\n",
    "\n",
    "# Реал Мадрид;9;Барселона;15\n",
    "# Ливерпуль;10;Манчестер Юнайтед;6\n",
    "# Манчестер Сити;5;Реал Мадрид;8"
   ]
  },
  {
   "cell_type": "code",
   "execution_count": 206,
   "metadata": {
    "collapsed": true
   },
   "outputs": [
    {
     "name": "stdout",
     "output_type": "stream",
     "text": [
      "Results per game: \n",
      "[1, 0, 0, 1, 0]\n",
      "[1, 1, 0, 0, 3]\n",
      "Спартак [1, 0, 0, 1, 0]\n",
      "Зенит [1, 1, 0, 0, 3]\n",
      "Results per game: \n",
      "[1, 1, 0, 0, 3]\n",
      "[1, 0, 0, 1, 0]\n",
      "Локомотив [1, 1, 0, 0, 3]\n",
      "Зенит [1, 0, 0, 1, 0]\n",
      "Results per game: \n",
      "[1, 0, 0, 1, 0]\n",
      "[1, 1, 0, 0, 3]\n",
      "Спартак [1, 0, 0, 1, 0]\n",
      "Локомотив [1, 1, 0, 0, 3]\n"
     ]
    }
   ],
   "source": [
    "for i in range(games):\n",
    "    team1_res = [0 for i in range(5)] \n",
    "    team2_res = [0 for i in range(5)]\n",
    "    team2_res[0] += 1\n",
    "    team1_res[0] += 1\n",
    "    if int(game_results[i][1]) > int(game_results[i][-1]):\n",
    "        team1_res[1] += 1\n",
    "        team2_res[3] += 1\n",
    "    elif int(game_results[i][1]) < int(game_results[i][-1]): \n",
    "        team2_res[1] += 1\n",
    "        team1_res[3] += 1\n",
    "    else:\n",
    "        team1_res[2] += 1\n",
    "        team2_res[2] += 1\n",
    "    team1_res[4] = team1_res[1] * 3 + team1_res[2]\n",
    "    team2_res[4] = team2_res[1] * 3 + team2_res[2]\n",
    "    modify_dictionary(teams, game_results[i][0], team1_res, game_results[i][2], team2_res)"
   ]
  },
  {
   "cell_type": "code",
   "execution_count": 207,
   "metadata": {
    "collapsed": true
   },
   "outputs": [
    {
     "data": {
      "text/plain": [
       "{'Спартак': [2, 0, 0, 2, 0],\n",
       " 'Зенит': [2, 1, 0, 1, 3],\n",
       " 'Локомотив': [2, 2, 0, 0, 6]}"
      ]
     },
     "execution_count": 207,
     "metadata": {},
     "output_type": "execute_result"
    }
   ],
   "source": [
    "teams"
   ]
  },
  {
   "cell_type": "code",
   "execution_count": 208,
   "metadata": {
    "collapsed": true
   },
   "outputs": [
    {
     "name": "stdout",
     "output_type": "stream",
     "text": [
      "Спартак: 2 0 0 2 0\n",
      "Зенит: 2 1 0 1 3\n",
      "Локомотив: 2 2 0 0 6\n"
     ]
    }
   ],
   "source": [
    "# Вывод результата из словаря\n",
    "for q, w in teams.items():\n",
    "    print((q+':'), *w, end='\\n')"
   ]
  },
  {
   "cell_type": "markdown",
   "metadata": {},
   "source": [
    "### Task\n",
    "\n",
    "В какой-то момент в Институте биоинформатики биологи перестали понимать, что говорят информатики: они говорили каким-то странным набором звуков.\n",
    "\n",
    "В какой-то момент один из биологов раскрыл секрет информатиков: они использовали при общении подстановочный шифр, т.е. заменяли каждый символ исходного сообщения на соответствующий ему другой символ. Биологи раздобыли ключ к шифру и теперь нуждаются в помощи:\n",
    "\n",
    "Напишите программу, которая умеет шифровать и расшифровывать шифр подстановки. Программа принимает на вход две строки одинаковой длины, на первой строке записаны символы исходного алфавита, на второй строке — символы конечного алфавита, после чего идёт строка, которую нужно зашифровать переданным ключом, и ещё одна строка, которую нужно расшифровать.\n",
    "\n",
    "Пусть, например, на вход программе передано:\n",
    "\n",
    "abcd\n",
    "\n",
    "*d%#\n",
    "\n",
    "abacabadaba\n",
    "\n",
    "#*%*d*%\n",
    "\n",
    "Это значит, что символ a исходного сообщения заменяется на символ * в шифре, b заменяется на d, c — на % и d — на #.\n",
    "Нужно зашифровать строку abacabadaba и расшифровать строку #*%*d*% с помощью этого шифра. Получаем следующие строки, которые и передаём на вывод программы:\n",
    "\n",
    "*d*%*d*#*d*\n",
    "\n",
    "dacabac"
   ]
  },
  {
   "cell_type": "code",
   "execution_count": 248,
   "metadata": {
    "collapsed": true
   },
   "outputs": [
    {
     "name": "stdout",
     "output_type": "stream",
     "text": [
      "abcd\n",
      "8*#4\n",
      "dcba\n",
      "**88#\n",
      "4#*8bbaac"
     ]
    }
   ],
   "source": [
    "text, keys, line1, line2 = ([x for x in input()] for _ in range(4))\n",
    "alpha = {}\n",
    "\n",
    "def get_key(symb, d):\n",
    "    for key, value in d.items():\n",
    "        if symb == value:\n",
    "            return key\n",
    "\n",
    "for i in range(len(text)):\n",
    "    alpha[text[i]] = keys[i] \n",
    "ans1, ans2 = [], []\n",
    "for key in line1:\n",
    "    ans1.append(alpha[key])\n",
    "\n",
    "for key in line2:\n",
    "    ans2.append(get_key(key, alpha))\n",
    "    \n",
    "for i in ans1:\n",
    "    print(i, end='')\n",
    "print()\n",
    "for i in ans2:\n",
    "    print(i, end='')"
   ]
  },
  {
   "cell_type": "code",
   "execution_count": 249,
   "metadata": {
    "collapsed": true
   },
   "outputs": [
    {
     "name": "stdout",
     "output_type": "stream",
     "text": [
      "abcd\n",
      "8*#4\n",
      "dcba\n",
      "**88#\n",
      "4#*8\n",
      "bbaac\n"
     ]
    }
   ],
   "source": [
    "# Используя стандартную библиотеку!\n",
    "source, dest = input(), input()\n",
    "decoded = input()\n",
    "encoded = input()\n",
    "\n",
    "print(decoded.translate(str.maketrans(source, dest)))\n",
    "print(encoded.translate(str.maketrans(dest, source)))"
   ]
  },
  {
   "cell_type": "code",
   "execution_count": null,
   "metadata": {},
   "outputs": [],
   "source": [
    "# One more interesting decision\n",
    "a,b,c,d=input(),input(),input(),input()\n",
    "print(''.join(b[a.index(i)] for i in c))\n",
    "print(''.join(a[b.index(i)] for i in d))"
   ]
  },
  {
   "cell_type": "markdown",
   "metadata": {},
   "source": [
    "### Task\n",
    "\n",
    "Простейшая система проверки орфографии может быть основана на использовании списка известных слов.\n",
    "Если введённое слово не найдено в этом списке, оно помечается как \"ошибка\".\n",
    "\n",
    "Попробуем написать подобную систему.\n",
    "\n",
    "На вход программе первой строкой передаётся количество d d d известных нам слов, после чего на d d d строках указываются эти слова. Затем передаётся количество l l l строк текста для проверки, после чего l l l строк текста.\n",
    "\n",
    "Выведите уникальные \"ошибки\" в произвольном порядке. Работу производите без учёта регистра."
   ]
  },
  {
   "cell_type": "code",
   "execution_count": 277,
   "metadata": {
    "collapsed": true
   },
   "outputs": [
    {
     "name": "stdout",
     "output_type": "stream",
     "text": [
      "4\n",
      "champions\n",
      "we\n",
      "are\n",
      "Stepik\n",
      "3\n",
      "We are the champignons\n"
     ]
    },
    {
     "ename": "AttributeError",
     "evalue": "'list' object has no attribute 'lower'",
     "output_type": "error",
     "traceback": [
      "\u001b[1;31m---------------------------------------------------------------------------\u001b[0m",
      "\u001b[1;31mAttributeError\u001b[0m                            Traceback (most recent call last)",
      "\u001b[1;32m<ipython-input-277-58f9a669d8bd>\u001b[0m in \u001b[0;36m<module>\u001b[1;34m\u001b[0m\n\u001b[0;32m      2\u001b[0m \u001b[0malpha\u001b[0m \u001b[1;33m=\u001b[0m \u001b[1;33m{\u001b[0m\u001b[0minput\u001b[0m\u001b[1;33m(\u001b[0m\u001b[1;33m)\u001b[0m\u001b[1;33m.\u001b[0m\u001b[0mlower\u001b[0m\u001b[1;33m(\u001b[0m\u001b[1;33m)\u001b[0m \u001b[1;32mfor\u001b[0m \u001b[0m_\u001b[0m \u001b[1;32min\u001b[0m \u001b[0mrange\u001b[0m\u001b[1;33m(\u001b[0m\u001b[0mnum\u001b[0m\u001b[1;33m)\u001b[0m\u001b[1;33m}\u001b[0m\u001b[1;33m\u001b[0m\u001b[1;33m\u001b[0m\u001b[0m\n\u001b[0;32m      3\u001b[0m \u001b[0mnum\u001b[0m \u001b[1;33m=\u001b[0m \u001b[0mint\u001b[0m\u001b[1;33m(\u001b[0m\u001b[0minput\u001b[0m\u001b[1;33m(\u001b[0m\u001b[1;33m)\u001b[0m\u001b[1;33m)\u001b[0m\u001b[1;33m\u001b[0m\u001b[1;33m\u001b[0m\u001b[0m\n\u001b[1;32m----> 4\u001b[1;33m \u001b[0mline\u001b[0m \u001b[1;33m=\u001b[0m \u001b[1;33m[\u001b[0m\u001b[0minput\u001b[0m\u001b[1;33m(\u001b[0m\u001b[1;33m)\u001b[0m\u001b[1;33m.\u001b[0m\u001b[0msplit\u001b[0m\u001b[1;33m(\u001b[0m\u001b[1;33m)\u001b[0m\u001b[1;33m.\u001b[0m\u001b[0mlower\u001b[0m\u001b[1;33m(\u001b[0m\u001b[1;33m)\u001b[0m \u001b[1;32mfor\u001b[0m \u001b[0m_\u001b[0m \u001b[1;32min\u001b[0m \u001b[0mrange\u001b[0m\u001b[1;33m(\u001b[0m\u001b[0mnum\u001b[0m\u001b[1;33m)\u001b[0m\u001b[1;33m]\u001b[0m\u001b[1;33m\u001b[0m\u001b[1;33m\u001b[0m\u001b[0m\n\u001b[0m",
      "\u001b[1;32m<ipython-input-277-58f9a669d8bd>\u001b[0m in \u001b[0;36m<listcomp>\u001b[1;34m(.0)\u001b[0m\n\u001b[0;32m      2\u001b[0m \u001b[0malpha\u001b[0m \u001b[1;33m=\u001b[0m \u001b[1;33m{\u001b[0m\u001b[0minput\u001b[0m\u001b[1;33m(\u001b[0m\u001b[1;33m)\u001b[0m\u001b[1;33m.\u001b[0m\u001b[0mlower\u001b[0m\u001b[1;33m(\u001b[0m\u001b[1;33m)\u001b[0m \u001b[1;32mfor\u001b[0m \u001b[0m_\u001b[0m \u001b[1;32min\u001b[0m \u001b[0mrange\u001b[0m\u001b[1;33m(\u001b[0m\u001b[0mnum\u001b[0m\u001b[1;33m)\u001b[0m\u001b[1;33m}\u001b[0m\u001b[1;33m\u001b[0m\u001b[1;33m\u001b[0m\u001b[0m\n\u001b[0;32m      3\u001b[0m \u001b[0mnum\u001b[0m \u001b[1;33m=\u001b[0m \u001b[0mint\u001b[0m\u001b[1;33m(\u001b[0m\u001b[0minput\u001b[0m\u001b[1;33m(\u001b[0m\u001b[1;33m)\u001b[0m\u001b[1;33m)\u001b[0m\u001b[1;33m\u001b[0m\u001b[1;33m\u001b[0m\u001b[0m\n\u001b[1;32m----> 4\u001b[1;33m \u001b[0mline\u001b[0m \u001b[1;33m=\u001b[0m \u001b[1;33m[\u001b[0m\u001b[0minput\u001b[0m\u001b[1;33m(\u001b[0m\u001b[1;33m)\u001b[0m\u001b[1;33m.\u001b[0m\u001b[0msplit\u001b[0m\u001b[1;33m(\u001b[0m\u001b[1;33m)\u001b[0m\u001b[1;33m.\u001b[0m\u001b[0mlower\u001b[0m\u001b[1;33m(\u001b[0m\u001b[1;33m)\u001b[0m \u001b[1;32mfor\u001b[0m \u001b[0m_\u001b[0m \u001b[1;32min\u001b[0m \u001b[0mrange\u001b[0m\u001b[1;33m(\u001b[0m\u001b[0mnum\u001b[0m\u001b[1;33m)\u001b[0m\u001b[1;33m]\u001b[0m\u001b[1;33m\u001b[0m\u001b[1;33m\u001b[0m\u001b[0m\n\u001b[0m",
      "\u001b[1;31mAttributeError\u001b[0m: 'list' object has no attribute 'lower'"
     ]
    }
   ],
   "source": [
    "num = int(input())\n",
    "alpha = {input().lower() for _ in range(num)}\n",
    "num = int(input())\n",
    "line = [input().lower().split() for _ in range(num)]"
   ]
  },
  {
   "cell_type": "code",
   "execution_count": null,
   "metadata": {},
   "outputs": [],
   "source": []
  },
  {
   "cell_type": "code",
   "execution_count": 275,
   "metadata": {
    "collapsed": true
   },
   "outputs": [
    {
     "name": "stdout",
     "output_type": "stream",
     "text": [
      "ccc\n",
      "aba\n",
      "bb\n",
      "bB\n",
      "aBa\n",
      "c\n"
     ]
    }
   ],
   "source": [
    "diff = []\n",
    "for i in range(len(line)):\n",
    "    for key in line[i]:\n",
    "        if key not in alpha:\n",
    "            diff.append(key)\n",
    "for i in set(diff):\n",
    "    print(i)"
   ]
  },
  {
   "cell_type": "markdown",
   "metadata": {},
   "source": [
    "### Task\n",
    "\n",
    "Группа биологов в институте биоинформатики завела себе черепашку.\n",
    "\n",
    "После дрессировки черепашка научилась понимать и запоминать указания биологов следующего вида:\n",
    "\n",
    "север 10\n",
    "\n",
    "запад 20\n",
    "\n",
    "юг 30\n",
    "\n",
    "восток 40\n",
    "\n",
    "где первое слово — это направление, в котором должна двигаться черепашка, а число после слова — это положительное расстояние в сантиметрах, которое должна пройти черепашка.\n",
    "\n",
    "Но команды даются быстро, а черепашка ползёт медленно, и программисты догадались, что можно написать программу, которая определит, куда в итоге биологи приведут черепашку. Для этого программисты просят вас написать программу, которая выведет точку, в которой окажется черепашка после всех команд. Для простоты они решили считать, что движение начинается в точке (0, 0), и движение на восток увеличивает первую координату, а на север — вторую.\n",
    "\n",
    "Программе подаётся на вход число команд n n n, которые нужно выполнить черепашке, после чего n n n строк с самими командами. Вывести нужно два числа в одну строку: первую и вторую координату конечной точки черепашки. Все координаты целочисленные."
   ]
  },
  {
   "cell_type": "code",
   "execution_count": 13,
   "metadata": {},
   "outputs": [],
   "source": []
  },
  {
   "cell_type": "code",
   "execution_count": 16,
   "metadata": {
    "collapsed": true
   },
   "outputs": [
    {
     "name": "stdout",
     "output_type": "stream",
     "text": [
      "4\n",
      "север 10\n",
      "запад 20\n",
      "юг 30\n",
      "восток 40\n",
      "20 -20\n"
     ]
    }
   ],
   "source": [
    "num = int(input())\n",
    "x, y = 0, 0\n",
    "move = {'восток': 1, 'запад': -1, 'север': 1, 'юг': -1}\n",
    "for i in range(num):\n",
    "    command = input().split()\n",
    "    if command[0] == 'восток' or command[0] == 'запад':\n",
    "        x += move.get(command[0]) * int(command[1])\n",
    "    else:\n",
    "        y += move.get(command[0]) * int(command[1])\n",
    "print(x, y)"
   ]
  },
  {
   "cell_type": "code",
   "execution_count": 10,
   "metadata": {
    "collapsed": true
   },
   "outputs": [
    {
     "data": {
      "text/plain": [
       "10"
      ]
     },
     "execution_count": 10,
     "metadata": {},
     "output_type": "execute_result"
    }
   ],
   "source": [
    "# Another variant\n",
    "dict = {'север': 0, 'юг': 0, 'запад': 0, 'восток': 0}\n",
    "\n",
    "for _ in range(int(input())):\n",
    "    key, value = input().split()\n",
    "    dict[key] += int(value)\n",
    "\n",
    "print(dict['восток'] - dict['запад'], dict['север'] - dict['юг'])"
   ]
  },
  {
   "cell_type": "markdown",
   "metadata": {},
   "source": [
    "### Last Task\n",
    "\n",
    "Дан файл с таблицей в формате TSV с информацией о росте школьников разных классов.\n",
    "\n",
    "Напишите программу, которая прочитает этот файл и подсчитает для каждого класса средний рост учащегося.\n",
    "\n",
    "Файл состоит из набора строк, каждая из которых представляет собой три поля:\n",
    "Класс Фамилия Рост\n",
    "\n",
    "Класс обозначается только числом. Буквенные модификаторы не используются. Номер класса может быть от 1 до 11 включительно. В фамилии нет пробелов, а в качестве роста используется натуральное число, но при подсчёте среднего требуется вычислить значение в виде вещественного числа.\n",
    "\n",
    "Выводить информацию о среднем росте следует в порядке возрастания номера класса (для классов с первого по одиннадцатый). Если про какой-то класс нет информации, необходимо вывести напротив него прочерк.\n",
    "\n",
    "В качестве ответа прикрепите файл с полученными данными о среднем росте."
   ]
  },
  {
   "cell_type": "markdown",
   "metadata": {},
   "source": [
    "###### Sample Input:\n",
    "\n",
    "6\tВяххи\t159\n",
    "\n",
    "11\tФедотов\t172\n",
    "\n",
    "7\tБондарев\t158\n",
    "\n",
    "6\tЧайкина\t153\n",
    "\n",
    "###### Sample Output:\n",
    "\n",
    "1 -\n",
    "\n",
    "2 -\n",
    "\n",
    "3 -\n",
    "\n",
    "4 -\n",
    "\n",
    "5 -\n",
    "\n",
    "6 156.0\n",
    "\n",
    "7 158.0\n",
    "\n",
    "8 -\n",
    "\n",
    "9 -\n",
    "\n",
    "10 -\n",
    "\n",
    "11 172.0"
   ]
  },
  {
   "cell_type": "code",
   "execution_count": 103,
   "metadata": {},
   "outputs": [],
   "source": [
    "import os\n",
    "import requests\n",
    "\n",
    "curr_dir = os.getcwd()\n",
    "ans_dir = os.path.join(curr_dir, 'files', 'dataset_3380_ans.txt')\n",
    "file_dir = os.path.join(curr_dir, 'files', 'dataset_3380_5.txt')\n",
    "\n",
    "if os.path.exists(ans_dir):\n",
    "    os.remove(ans_dir) \n"
   ]
  },
  {
   "cell_type": "code",
   "execution_count": 104,
   "metadata": {},
   "outputs": [],
   "source": [
    "class_info = {}\n",
    "\n",
    "def dict_mod(d, key, value):\n",
    "    if key in d.keys():\n",
    "        d[key].append(value)\n",
    "    else:\n",
    "        d[key] = [value]\n",
    "\n",
    "\n",
    "with open(file_dir) as data:\n",
    "    for i in data:\n",
    "        line = i.split()\n",
    "        dict_mod(class_info, line[0], int(line[2]))\n"
   ]
  },
  {
   "cell_type": "code",
   "execution_count": 105,
   "metadata": {},
   "outputs": [],
   "source": [
    "middle = []\n",
    "for i in range(11):\n",
    "    lvl = str(i + 1)\n",
    "    if lvl in class_info.keys():\n",
    "        for k, v in class_info.items(): \n",
    "            if lvl == k:\n",
    "                avg = str(sum(class_info[k]) / len(class_info[k]))\n",
    "#                 print(lvl, avg)\n",
    "                middle.append([k, avg])\n",
    "    else:\n",
    "        middle.append([lvl, '-'])"
   ]
  },
  {
   "cell_type": "code",
   "execution_count": 53,
   "metadata": {},
   "outputs": [
    {
     "data": {
      "text/plain": [
       "dict_keys(['9', '4', '5', '8', '7', '11', '2', '6', '3', '10', '1'])"
      ]
     },
     "execution_count": 53,
     "metadata": {},
     "output_type": "execute_result"
    }
   ],
   "source": [
    "class_info.keys()"
   ]
  },
  {
   "cell_type": "code",
   "execution_count": 106,
   "metadata": {},
   "outputs": [],
   "source": [
    "with open(ans_dir, 'a') as out:\n",
    "    for i in range(len(middle)):\n",
    "        out.write(' '.join(middle[i]))\n",
    "        out.write('\\n')"
   ]
  },
  {
   "cell_type": "code",
   "execution_count": 107,
   "metadata": {},
   "outputs": [
    {
     "name": "stdout",
     "output_type": "stream",
     "text": [
      "1 125.2\n",
      "\n",
      "2 129.5\n",
      "\n",
      "3 138.0\n",
      "\n",
      "4 139.25\n",
      "\n",
      "5 145.66666666666666\n",
      "\n",
      "6 155.0\n",
      "\n",
      "7 159.25\n",
      "\n",
      "8 167.66666666666666\n",
      "\n",
      "9 169.44444444444446\n",
      "\n",
      "10 168.5\n",
      "\n",
      "11 174.33333333333334\n",
      "\n"
     ]
    }
   ],
   "source": [
    "with open(ans_dir, 'r') as test:\n",
    "    for i in test:\n",
    "        print(i)"
   ]
  },
  {
   "cell_type": "code",
   "execution_count": 79,
   "metadata": {},
   "outputs": [
    {
     "name": "stdout",
     "output_type": "stream",
     "text": [
      "1 125.4\n",
      "2 129.27272727272728\n",
      "3 134.88888888888889\n",
      "4 139.875\n",
      "5 144.57142857142858\n",
      "6 153.6\n",
      "7 160.33333333333334\n",
      "8 162.8\n",
      "9 170.8\n",
      "10 170.8181818181818\n",
      "11 175.84615384615384\n",
      "12 -\n",
      "13 -\n"
     ]
    }
   ],
   "source": []
  },
  {
   "cell_type": "code",
   "execution_count": null,
   "metadata": {},
   "outputs": [],
   "source": []
  }
 ],
 "metadata": {
  "kernelspec": {
   "display_name": "Python 3",
   "language": "python",
   "name": "python3"
  },
  "language_info": {
   "codemirror_mode": {
    "name": "ipython",
    "version": 3
   },
   "file_extension": ".py",
   "mimetype": "text/x-python",
   "name": "python",
   "nbconvert_exporter": "python",
   "pygments_lexer": "ipython3",
   "version": "3.7.5"
  }
 },
 "nbformat": 4,
 "nbformat_minor": 2
}
